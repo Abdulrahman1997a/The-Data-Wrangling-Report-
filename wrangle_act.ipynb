{
 "cells": [
  {
   "cell_type": "markdown",
   "metadata": {},
   "source": [
    "# Project: Wrangle and Analyze Data\n",
    "\n"
   ]
  },
  {
   "cell_type": "markdown",
   "metadata": {},
   "source": [
    "### Table of Contents\n",
    "- Introduction\n",
    "- Gathering Data. \n",
    "- Assessing Data.\n",
    "- Cleaning data. \n",
    "Analyzing and Visualizing Data\n"
   ]
  },
  {
   "cell_type": "markdown",
   "metadata": {},
   "source": [
    "#  Introduction\n",
    "Real-world data rarely comes clean. Using Python and its libraries, you will gather data from a variety of sources and in a variety of formats, assess its quality and tidiness, then clean it. This is called data wrangling. You will document your wrangling efforts in a Jupyter Notebook, plus showcase them through analyses and visualizations using Python (and its libraries) and/or SQL."
   ]
  },
  {
   "cell_type": "code",
   "execution_count": 1,
   "metadata": {},
   "outputs": [],
   "source": [
    "import numpy as np\n",
    "import pandas as pd\n",
    "import matplotlib.pyplot as plt\n",
    "import seaborn as sns\n",
    "from pandas import Series, DataFrame\n",
    "import csv \n",
    "import requests\n",
    "import tweepy\n",
    "import json\n",
    "import re\n",
    "from datetime import date\n",
    "import datetime as dt\n",
    "%matplotlib inline"
   ]
  },
  {
   "cell_type": "markdown",
   "metadata": {},
   "source": [
    "# Gathering Data"
   ]
  },
  {
   "cell_type": "code",
   "execution_count": 2,
   "metadata": {},
   "outputs": [
    {
     "data": {
      "text/html": [
       "<div>\n",
       "<style scoped>\n",
       "    .dataframe tbody tr th:only-of-type {\n",
       "        vertical-align: middle;\n",
       "    }\n",
       "\n",
       "    .dataframe tbody tr th {\n",
       "        vertical-align: top;\n",
       "    }\n",
       "\n",
       "    .dataframe thead th {\n",
       "        text-align: right;\n",
       "    }\n",
       "</style>\n",
       "<table border=\"1\" class=\"dataframe\">\n",
       "  <thead>\n",
       "    <tr style=\"text-align: right;\">\n",
       "      <th></th>\n",
       "      <th>tweet_id</th>\n",
       "      <th>in_reply_to_status_id</th>\n",
       "      <th>in_reply_to_user_id</th>\n",
       "      <th>timestamp</th>\n",
       "      <th>source</th>\n",
       "      <th>text</th>\n",
       "      <th>retweeted_status_id</th>\n",
       "      <th>retweeted_status_user_id</th>\n",
       "      <th>retweeted_status_timestamp</th>\n",
       "      <th>expanded_urls</th>\n",
       "      <th>rating_numerator</th>\n",
       "      <th>rating_denominator</th>\n",
       "      <th>name</th>\n",
       "      <th>doggo</th>\n",
       "      <th>floofer</th>\n",
       "      <th>pupper</th>\n",
       "      <th>puppo</th>\n",
       "    </tr>\n",
       "  </thead>\n",
       "  <tbody>\n",
       "    <tr>\n",
       "      <th>0</th>\n",
       "      <td>892420643555336193</td>\n",
       "      <td>NaN</td>\n",
       "      <td>NaN</td>\n",
       "      <td>2017-08-01 16:23:56 +0000</td>\n",
       "      <td>&lt;a href=\"http://twitter.com/download/iphone\" r...</td>\n",
       "      <td>This is Phineas. He's a mystical boy. Only eve...</td>\n",
       "      <td>NaN</td>\n",
       "      <td>NaN</td>\n",
       "      <td>NaN</td>\n",
       "      <td>https://twitter.com/dog_rates/status/892420643...</td>\n",
       "      <td>13</td>\n",
       "      <td>10</td>\n",
       "      <td>Phineas</td>\n",
       "      <td>None</td>\n",
       "      <td>None</td>\n",
       "      <td>None</td>\n",
       "      <td>None</td>\n",
       "    </tr>\n",
       "    <tr>\n",
       "      <th>1</th>\n",
       "      <td>892177421306343426</td>\n",
       "      <td>NaN</td>\n",
       "      <td>NaN</td>\n",
       "      <td>2017-08-01 00:17:27 +0000</td>\n",
       "      <td>&lt;a href=\"http://twitter.com/download/iphone\" r...</td>\n",
       "      <td>This is Tilly. She's just checking pup on you....</td>\n",
       "      <td>NaN</td>\n",
       "      <td>NaN</td>\n",
       "      <td>NaN</td>\n",
       "      <td>https://twitter.com/dog_rates/status/892177421...</td>\n",
       "      <td>13</td>\n",
       "      <td>10</td>\n",
       "      <td>Tilly</td>\n",
       "      <td>None</td>\n",
       "      <td>None</td>\n",
       "      <td>None</td>\n",
       "      <td>None</td>\n",
       "    </tr>\n",
       "    <tr>\n",
       "      <th>2</th>\n",
       "      <td>891815181378084864</td>\n",
       "      <td>NaN</td>\n",
       "      <td>NaN</td>\n",
       "      <td>2017-07-31 00:18:03 +0000</td>\n",
       "      <td>&lt;a href=\"http://twitter.com/download/iphone\" r...</td>\n",
       "      <td>This is Archie. He is a rare Norwegian Pouncin...</td>\n",
       "      <td>NaN</td>\n",
       "      <td>NaN</td>\n",
       "      <td>NaN</td>\n",
       "      <td>https://twitter.com/dog_rates/status/891815181...</td>\n",
       "      <td>12</td>\n",
       "      <td>10</td>\n",
       "      <td>Archie</td>\n",
       "      <td>None</td>\n",
       "      <td>None</td>\n",
       "      <td>None</td>\n",
       "      <td>None</td>\n",
       "    </tr>\n",
       "    <tr>\n",
       "      <th>3</th>\n",
       "      <td>891689557279858688</td>\n",
       "      <td>NaN</td>\n",
       "      <td>NaN</td>\n",
       "      <td>2017-07-30 15:58:51 +0000</td>\n",
       "      <td>&lt;a href=\"http://twitter.com/download/iphone\" r...</td>\n",
       "      <td>This is Darla. She commenced a snooze mid meal...</td>\n",
       "      <td>NaN</td>\n",
       "      <td>NaN</td>\n",
       "      <td>NaN</td>\n",
       "      <td>https://twitter.com/dog_rates/status/891689557...</td>\n",
       "      <td>13</td>\n",
       "      <td>10</td>\n",
       "      <td>Darla</td>\n",
       "      <td>None</td>\n",
       "      <td>None</td>\n",
       "      <td>None</td>\n",
       "      <td>None</td>\n",
       "    </tr>\n",
       "    <tr>\n",
       "      <th>4</th>\n",
       "      <td>891327558926688256</td>\n",
       "      <td>NaN</td>\n",
       "      <td>NaN</td>\n",
       "      <td>2017-07-29 16:00:24 +0000</td>\n",
       "      <td>&lt;a href=\"http://twitter.com/download/iphone\" r...</td>\n",
       "      <td>This is Franklin. He would like you to stop ca...</td>\n",
       "      <td>NaN</td>\n",
       "      <td>NaN</td>\n",
       "      <td>NaN</td>\n",
       "      <td>https://twitter.com/dog_rates/status/891327558...</td>\n",
       "      <td>12</td>\n",
       "      <td>10</td>\n",
       "      <td>Franklin</td>\n",
       "      <td>None</td>\n",
       "      <td>None</td>\n",
       "      <td>None</td>\n",
       "      <td>None</td>\n",
       "    </tr>\n",
       "  </tbody>\n",
       "</table>\n",
       "</div>"
      ],
      "text/plain": [
       "             tweet_id  in_reply_to_status_id  in_reply_to_user_id  \\\n",
       "0  892420643555336193                    NaN                  NaN   \n",
       "1  892177421306343426                    NaN                  NaN   \n",
       "2  891815181378084864                    NaN                  NaN   \n",
       "3  891689557279858688                    NaN                  NaN   \n",
       "4  891327558926688256                    NaN                  NaN   \n",
       "\n",
       "                   timestamp  \\\n",
       "0  2017-08-01 16:23:56 +0000   \n",
       "1  2017-08-01 00:17:27 +0000   \n",
       "2  2017-07-31 00:18:03 +0000   \n",
       "3  2017-07-30 15:58:51 +0000   \n",
       "4  2017-07-29 16:00:24 +0000   \n",
       "\n",
       "                                              source  \\\n",
       "0  <a href=\"http://twitter.com/download/iphone\" r...   \n",
       "1  <a href=\"http://twitter.com/download/iphone\" r...   \n",
       "2  <a href=\"http://twitter.com/download/iphone\" r...   \n",
       "3  <a href=\"http://twitter.com/download/iphone\" r...   \n",
       "4  <a href=\"http://twitter.com/download/iphone\" r...   \n",
       "\n",
       "                                                text  retweeted_status_id  \\\n",
       "0  This is Phineas. He's a mystical boy. Only eve...                  NaN   \n",
       "1  This is Tilly. She's just checking pup on you....                  NaN   \n",
       "2  This is Archie. He is a rare Norwegian Pouncin...                  NaN   \n",
       "3  This is Darla. She commenced a snooze mid meal...                  NaN   \n",
       "4  This is Franklin. He would like you to stop ca...                  NaN   \n",
       "\n",
       "   retweeted_status_user_id retweeted_status_timestamp  \\\n",
       "0                       NaN                        NaN   \n",
       "1                       NaN                        NaN   \n",
       "2                       NaN                        NaN   \n",
       "3                       NaN                        NaN   \n",
       "4                       NaN                        NaN   \n",
       "\n",
       "                                       expanded_urls  rating_numerator  \\\n",
       "0  https://twitter.com/dog_rates/status/892420643...                13   \n",
       "1  https://twitter.com/dog_rates/status/892177421...                13   \n",
       "2  https://twitter.com/dog_rates/status/891815181...                12   \n",
       "3  https://twitter.com/dog_rates/status/891689557...                13   \n",
       "4  https://twitter.com/dog_rates/status/891327558...                12   \n",
       "\n",
       "   rating_denominator      name doggo floofer pupper puppo  \n",
       "0                  10   Phineas  None    None   None  None  \n",
       "1                  10     Tilly  None    None   None  None  \n",
       "2                  10    Archie  None    None   None  None  \n",
       "3                  10     Darla  None    None   None  None  \n",
       "4                  10  Franklin  None    None   None  None  "
      ]
     },
     "execution_count": 2,
     "metadata": {},
     "output_type": "execute_result"
    }
   ],
   "source": [
    "df = pd.read_csv(\"twitter-archive-enhanced-2.csv\")\n",
    "df.head()"
   ]
  },
  {
   "cell_type": "code",
   "execution_count": 3,
   "metadata": {},
   "outputs": [
    {
     "data": {
      "text/plain": [
       "(2356, 17)"
      ]
     },
     "execution_count": 3,
     "metadata": {},
     "output_type": "execute_result"
    }
   ],
   "source": [
    "df.shape"
   ]
  },
  {
   "cell_type": "code",
   "execution_count": 4,
   "metadata": {},
   "outputs": [
    {
     "name": "stdout",
     "output_type": "stream",
     "text": [
      "<class 'pandas.core.frame.DataFrame'>\n",
      "RangeIndex: 2356 entries, 0 to 2355\n",
      "Data columns (total 17 columns):\n",
      " #   Column                      Non-Null Count  Dtype  \n",
      "---  ------                      --------------  -----  \n",
      " 0   tweet_id                    2356 non-null   int64  \n",
      " 1   in_reply_to_status_id       78 non-null     float64\n",
      " 2   in_reply_to_user_id         78 non-null     float64\n",
      " 3   timestamp                   2356 non-null   object \n",
      " 4   source                      2356 non-null   object \n",
      " 5   text                        2356 non-null   object \n",
      " 6   retweeted_status_id         181 non-null    float64\n",
      " 7   retweeted_status_user_id    181 non-null    float64\n",
      " 8   retweeted_status_timestamp  181 non-null    object \n",
      " 9   expanded_urls               2297 non-null   object \n",
      " 10  rating_numerator            2356 non-null   int64  \n",
      " 11  rating_denominator          2356 non-null   int64  \n",
      " 12  name                        2356 non-null   object \n",
      " 13  doggo                       2356 non-null   object \n",
      " 14  floofer                     2356 non-null   object \n",
      " 15  pupper                      2356 non-null   object \n",
      " 16  puppo                       2356 non-null   object \n",
      "dtypes: float64(4), int64(3), object(10)\n",
      "memory usage: 313.0+ KB\n"
     ]
    }
   ],
   "source": [
    "df.info()"
   ]
  },
  {
   "cell_type": "code",
   "execution_count": 5,
   "metadata": {},
   "outputs": [],
   "source": [
    "url = 'https://d17h27t6h515a5.cloudfront.net/topher/2017/August/599fd2ad_image-predictions/image-predictions.tsv'\n",
    "response = requests.get(url)\n",
    "\n",
    "with open('image_predictions.tsv', mode='wb') as file: file.write(response.content)\n",
    "\n",
    "image_predictions = pd.read_csv('image_predictions.tsv', sep='\\t')"
   ]
  },
  {
   "cell_type": "code",
   "execution_count": 6,
   "metadata": {
    "scrolled": false
   },
   "outputs": [
    {
     "name": "stdout",
     "output_type": "stream",
     "text": [
      "<class 'pandas.core.frame.DataFrame'>\n",
      "RangeIndex: 2075 entries, 0 to 2074\n",
      "Data columns (total 12 columns):\n",
      " #   Column    Non-Null Count  Dtype  \n",
      "---  ------    --------------  -----  \n",
      " 0   tweet_id  2075 non-null   int64  \n",
      " 1   jpg_url   2075 non-null   object \n",
      " 2   img_num   2075 non-null   int64  \n",
      " 3   p1        2075 non-null   object \n",
      " 4   p1_conf   2075 non-null   float64\n",
      " 5   p1_dog    2075 non-null   bool   \n",
      " 6   p2        2075 non-null   object \n",
      " 7   p2_conf   2075 non-null   float64\n",
      " 8   p2_dog    2075 non-null   bool   \n",
      " 9   p3        2075 non-null   object \n",
      " 10  p3_conf   2075 non-null   float64\n",
      " 11  p3_dog    2075 non-null   bool   \n",
      "dtypes: bool(3), float64(3), int64(2), object(4)\n",
      "memory usage: 152.1+ KB\n"
     ]
    }
   ],
   "source": [
    "image_predictions.info()"
   ]
  },
  {
   "cell_type": "code",
   "execution_count": 9,
   "metadata": {},
   "outputs": [
    {
     "data": {
      "text/html": [
       "<div>\n",
       "<style scoped>\n",
       "    .dataframe tbody tr th:only-of-type {\n",
       "        vertical-align: middle;\n",
       "    }\n",
       "\n",
       "    .dataframe tbody tr th {\n",
       "        vertical-align: top;\n",
       "    }\n",
       "\n",
       "    .dataframe thead th {\n",
       "        text-align: right;\n",
       "    }\n",
       "</style>\n",
       "<table border=\"1\" class=\"dataframe\">\n",
       "  <thead>\n",
       "    <tr style=\"text-align: right;\">\n",
       "      <th></th>\n",
       "      <th>tweet_id</th>\n",
       "      <th>jpg_url</th>\n",
       "      <th>img_num</th>\n",
       "      <th>p1</th>\n",
       "      <th>p1_conf</th>\n",
       "      <th>p1_dog</th>\n",
       "      <th>p2</th>\n",
       "      <th>p2_conf</th>\n",
       "      <th>p2_dog</th>\n",
       "      <th>p3</th>\n",
       "      <th>p3_conf</th>\n",
       "      <th>p3_dog</th>\n",
       "    </tr>\n",
       "  </thead>\n",
       "  <tbody>\n",
       "    <tr>\n",
       "      <th>0</th>\n",
       "      <td>666020888022790149</td>\n",
       "      <td>https://pbs.twimg.com/media/CT4udn0WwAA0aMy.jpg</td>\n",
       "      <td>1</td>\n",
       "      <td>Welsh_springer_spaniel</td>\n",
       "      <td>0.465074</td>\n",
       "      <td>True</td>\n",
       "      <td>collie</td>\n",
       "      <td>0.156665</td>\n",
       "      <td>True</td>\n",
       "      <td>Shetland_sheepdog</td>\n",
       "      <td>0.061428</td>\n",
       "      <td>True</td>\n",
       "    </tr>\n",
       "    <tr>\n",
       "      <th>1</th>\n",
       "      <td>666029285002620928</td>\n",
       "      <td>https://pbs.twimg.com/media/CT42GRgUYAA5iDo.jpg</td>\n",
       "      <td>1</td>\n",
       "      <td>redbone</td>\n",
       "      <td>0.506826</td>\n",
       "      <td>True</td>\n",
       "      <td>miniature_pinscher</td>\n",
       "      <td>0.074192</td>\n",
       "      <td>True</td>\n",
       "      <td>Rhodesian_ridgeback</td>\n",
       "      <td>0.072010</td>\n",
       "      <td>True</td>\n",
       "    </tr>\n",
       "    <tr>\n",
       "      <th>2</th>\n",
       "      <td>666033412701032449</td>\n",
       "      <td>https://pbs.twimg.com/media/CT4521TWwAEvMyu.jpg</td>\n",
       "      <td>1</td>\n",
       "      <td>German_shepherd</td>\n",
       "      <td>0.596461</td>\n",
       "      <td>True</td>\n",
       "      <td>malinois</td>\n",
       "      <td>0.138584</td>\n",
       "      <td>True</td>\n",
       "      <td>bloodhound</td>\n",
       "      <td>0.116197</td>\n",
       "      <td>True</td>\n",
       "    </tr>\n",
       "  </tbody>\n",
       "</table>\n",
       "</div>"
      ],
      "text/plain": [
       "             tweet_id                                          jpg_url  \\\n",
       "0  666020888022790149  https://pbs.twimg.com/media/CT4udn0WwAA0aMy.jpg   \n",
       "1  666029285002620928  https://pbs.twimg.com/media/CT42GRgUYAA5iDo.jpg   \n",
       "2  666033412701032449  https://pbs.twimg.com/media/CT4521TWwAEvMyu.jpg   \n",
       "\n",
       "   img_num                      p1   p1_conf  p1_dog                  p2  \\\n",
       "0        1  Welsh_springer_spaniel  0.465074    True              collie   \n",
       "1        1                 redbone  0.506826    True  miniature_pinscher   \n",
       "2        1         German_shepherd  0.596461    True            malinois   \n",
       "\n",
       "    p2_conf  p2_dog                   p3   p3_conf  p3_dog  \n",
       "0  0.156665    True    Shetland_sheepdog  0.061428    True  \n",
       "1  0.074192    True  Rhodesian_ridgeback  0.072010    True  \n",
       "2  0.138584    True           bloodhound  0.116197    True  "
      ]
     },
     "execution_count": 9,
     "metadata": {},
     "output_type": "execute_result"
    }
   ],
   "source": [
    "image_predictions.head(n=3)"
   ]
  },
  {
   "cell_type": "code",
   "execution_count": 8,
   "metadata": {},
   "outputs": [
    {
     "data": {
      "text/html": [
       "<div>\n",
       "<style scoped>\n",
       "    .dataframe tbody tr th:only-of-type {\n",
       "        vertical-align: middle;\n",
       "    }\n",
       "\n",
       "    .dataframe tbody tr th {\n",
       "        vertical-align: top;\n",
       "    }\n",
       "\n",
       "    .dataframe thead th {\n",
       "        text-align: right;\n",
       "    }\n",
       "</style>\n",
       "<table border=\"1\" class=\"dataframe\">\n",
       "  <thead>\n",
       "    <tr style=\"text-align: right;\">\n",
       "      <th></th>\n",
       "      <th>tweet_id</th>\n",
       "      <th>jpg_url</th>\n",
       "      <th>img_num</th>\n",
       "      <th>p1</th>\n",
       "      <th>p1_conf</th>\n",
       "      <th>p1_dog</th>\n",
       "      <th>p2</th>\n",
       "      <th>p2_conf</th>\n",
       "      <th>p2_dog</th>\n",
       "      <th>p3</th>\n",
       "      <th>p3_conf</th>\n",
       "      <th>p3_dog</th>\n",
       "    </tr>\n",
       "  </thead>\n",
       "  <tbody>\n",
       "    <tr>\n",
       "      <th>972</th>\n",
       "      <td>706644897839910912</td>\n",
       "      <td>https://pbs.twimg.com/ext_tw_video_thumb/70664...</td>\n",
       "      <td>1</td>\n",
       "      <td>space_heater</td>\n",
       "      <td>0.137871</td>\n",
       "      <td>False</td>\n",
       "      <td>Chihuahua</td>\n",
       "      <td>0.132928</td>\n",
       "      <td>True</td>\n",
       "      <td>cougar</td>\n",
       "      <td>0.113866</td>\n",
       "      <td>False</td>\n",
       "    </tr>\n",
       "    <tr>\n",
       "      <th>954</th>\n",
       "      <td>705223444686888960</td>\n",
       "      <td>https://pbs.twimg.com/media/Ccl0-HVVAAAf8aK.jpg</td>\n",
       "      <td>1</td>\n",
       "      <td>Egyptian_cat</td>\n",
       "      <td>0.090508</td>\n",
       "      <td>False</td>\n",
       "      <td>Chesapeake_Bay_retriever</td>\n",
       "      <td>0.077373</td>\n",
       "      <td>True</td>\n",
       "      <td>Mexican_hairless</td>\n",
       "      <td>0.049472</td>\n",
       "      <td>True</td>\n",
       "    </tr>\n",
       "    <tr>\n",
       "      <th>1514</th>\n",
       "      <td>786664955043049472</td>\n",
       "      <td>https://pbs.twimg.com/media/CurLmoqXgAEPoJ-.jpg</td>\n",
       "      <td>1</td>\n",
       "      <td>Leonberg</td>\n",
       "      <td>0.512034</td>\n",
       "      <td>True</td>\n",
       "      <td>keeshond</td>\n",
       "      <td>0.464816</td>\n",
       "      <td>True</td>\n",
       "      <td>Pomeranian</td>\n",
       "      <td>0.007812</td>\n",
       "      <td>True</td>\n",
       "    </tr>\n",
       "  </tbody>\n",
       "</table>\n",
       "</div>"
      ],
      "text/plain": [
       "                tweet_id                                            jpg_url  \\\n",
       "972   706644897839910912  https://pbs.twimg.com/ext_tw_video_thumb/70664...   \n",
       "954   705223444686888960    https://pbs.twimg.com/media/Ccl0-HVVAAAf8aK.jpg   \n",
       "1514  786664955043049472    https://pbs.twimg.com/media/CurLmoqXgAEPoJ-.jpg   \n",
       "\n",
       "      img_num            p1   p1_conf  p1_dog                        p2  \\\n",
       "972         1  space_heater  0.137871   False                 Chihuahua   \n",
       "954         1  Egyptian_cat  0.090508   False  Chesapeake_Bay_retriever   \n",
       "1514        1      Leonberg  0.512034    True                  keeshond   \n",
       "\n",
       "       p2_conf  p2_dog                p3   p3_conf  p3_dog  \n",
       "972   0.132928    True            cougar  0.113866   False  \n",
       "954   0.077373    True  Mexican_hairless  0.049472    True  \n",
       "1514  0.464816    True        Pomeranian  0.007812    True  "
      ]
     },
     "execution_count": 8,
     "metadata": {},
     "output_type": "execute_result"
    }
   ],
   "source": [
    "image_predictions.sample(3)"
   ]
  },
  {
   "cell_type": "code",
   "execution_count": 10,
   "metadata": {},
   "outputs": [],
   "source": [
    "consumer_key = 'mWMxupvHdNCdKkSRl289fZZiU'\n",
    "consumer_secret = \"fwOH5PnZ13fRA78dbvG0gKqMD2Rf2MJppzy3oAtzmnsbbMjc4s\"\n",
    "access_token = '934818650514690048-hwdq8iQ7L0axCtRov7KApwClQnGrlFu'\n",
    "access_secret = 'oMQQeifBKqlUoibZRkr7OtJQD6pi5SubNOGg4f813Ezc2'\n",
    "\n"
   ]
  },
  {
   "cell_type": "code",
   "execution_count": 11,
   "metadata": {},
   "outputs": [],
   "source": [
    "auth = tweepy.OAuthHandler(consumer_key, consumer_secret)\n",
    "auth.set_access_token(access_token, access_secret)\n",
    "api = tweepy.API(auth, wait_on_rate_limit = True)"
   ]
  },
  {
   "cell_type": "code",
   "execution_count": 12,
   "metadata": {},
   "outputs": [],
   "source": [
    "with open('tweet_json.txt', 'w', encoding='utf8') as f:\n",
    "    for tweet_id in df['tweet_id']:\n",
    "        try:\n",
    "            tweet = api.get_status(tweet_id, tweet_mode='extended')\n",
    "            json.dump(tweet._json, f)\n",
    "            f.write('\\n')\n",
    "        except:\n",
    "            continue"
   ]
  },
  {
   "cell_type": "code",
   "execution_count": 13,
   "metadata": {},
   "outputs": [],
   "source": [
    "tweets_data = []\n",
    "tweet_file = open('tweet_json.txt', 'r')\n",
    "\n",
    "for line in tweet_file:\n",
    "    try:\n",
    "        tweet = json.loads(line)\n",
    "        tweets_data.append(tweet)\n",
    "    except:\n",
    "            continue\n",
    "\n",
    "            tweet_file.close()"
   ]
  },
  {
   "cell_type": "code",
   "execution_count": 14,
   "metadata": {},
   "outputs": [
    {
     "name": "stdout",
     "output_type": "stream",
     "text": [
      "<class 'pandas.core.frame.DataFrame'>\n",
      "RangeIndex: 2331 entries, 0 to 2330\n",
      "Data columns (total 3 columns):\n",
      " #   Column          Non-Null Count  Dtype\n",
      "---  ------          --------------  -----\n",
      " 0   tweet_id        2331 non-null   int64\n",
      " 1   retweet_count   2331 non-null   int64\n",
      " 2   favorite_count  2331 non-null   int64\n",
      "dtypes: int64(3)\n",
      "memory usage: 54.8 KB\n"
     ]
    }
   ],
   "source": [
    "tweet_info = pd.DataFrame()\n",
    "\n",
    "tweet_info['tweet_id'] = list(map(lambda tweet: tweet['id'], tweets_data ))\n",
    "tweet_info['retweet_count'] = list(map(lambda tweet: tweet['retweet_count'], tweets_data))\n",
    "tweet_info['favorite_count'] = list(map(lambda tweet: tweet['favorite_count'], tweets_data))\n",
    "\n",
    "tweet_info.info()"
   ]
  },
  {
   "cell_type": "code",
   "execution_count": 15,
   "metadata": {},
   "outputs": [
    {
     "data": {
      "text/plain": [
       "(2331, 3)"
      ]
     },
     "execution_count": 15,
     "metadata": {},
     "output_type": "execute_result"
    }
   ],
   "source": [
    "tweet_info.shape"
   ]
  },
  {
   "cell_type": "code",
   "execution_count": 16,
   "metadata": {},
   "outputs": [
    {
     "data": {
      "text/html": [
       "<div>\n",
       "<style scoped>\n",
       "    .dataframe tbody tr th:only-of-type {\n",
       "        vertical-align: middle;\n",
       "    }\n",
       "\n",
       "    .dataframe tbody tr th {\n",
       "        vertical-align: top;\n",
       "    }\n",
       "\n",
       "    .dataframe thead th {\n",
       "        text-align: right;\n",
       "    }\n",
       "</style>\n",
       "<table border=\"1\" class=\"dataframe\">\n",
       "  <thead>\n",
       "    <tr style=\"text-align: right;\">\n",
       "      <th></th>\n",
       "      <th>tweet_id</th>\n",
       "      <th>retweet_count</th>\n",
       "      <th>favorite_count</th>\n",
       "    </tr>\n",
       "  </thead>\n",
       "  <tbody>\n",
       "    <tr>\n",
       "      <th>0</th>\n",
       "      <td>892420643555336193</td>\n",
       "      <td>7725</td>\n",
       "      <td>36300</td>\n",
       "    </tr>\n",
       "    <tr>\n",
       "      <th>1</th>\n",
       "      <td>892177421306343426</td>\n",
       "      <td>5719</td>\n",
       "      <td>31305</td>\n",
       "    </tr>\n",
       "    <tr>\n",
       "      <th>2</th>\n",
       "      <td>891815181378084864</td>\n",
       "      <td>3786</td>\n",
       "      <td>23571</td>\n",
       "    </tr>\n",
       "    <tr>\n",
       "      <th>3</th>\n",
       "      <td>891689557279858688</td>\n",
       "      <td>7889</td>\n",
       "      <td>39605</td>\n",
       "    </tr>\n",
       "    <tr>\n",
       "      <th>4</th>\n",
       "      <td>891327558926688256</td>\n",
       "      <td>8506</td>\n",
       "      <td>37817</td>\n",
       "    </tr>\n",
       "  </tbody>\n",
       "</table>\n",
       "</div>"
      ],
      "text/plain": [
       "             tweet_id  retweet_count  favorite_count\n",
       "0  892420643555336193           7725           36300\n",
       "1  892177421306343426           5719           31305\n",
       "2  891815181378084864           3786           23571\n",
       "3  891689557279858688           7889           39605\n",
       "4  891327558926688256           8506           37817"
      ]
     },
     "execution_count": 16,
     "metadata": {},
     "output_type": "execute_result"
    }
   ],
   "source": [
    "tweet_info.head()"
   ]
  },
  {
   "cell_type": "markdown",
   "metadata": {},
   "source": [
    "# Assessing Data\n",
    "Here is assessing the data for quality and tidiness."
   ]
  },
  {
   "cell_type": "code",
   "execution_count": 17,
   "metadata": {},
   "outputs": [
    {
     "data": {
      "text/html": [
       "<div>\n",
       "<style scoped>\n",
       "    .dataframe tbody tr th:only-of-type {\n",
       "        vertical-align: middle;\n",
       "    }\n",
       "\n",
       "    .dataframe tbody tr th {\n",
       "        vertical-align: top;\n",
       "    }\n",
       "\n",
       "    .dataframe thead th {\n",
       "        text-align: right;\n",
       "    }\n",
       "</style>\n",
       "<table border=\"1\" class=\"dataframe\">\n",
       "  <thead>\n",
       "    <tr style=\"text-align: right;\">\n",
       "      <th></th>\n",
       "      <th>tweet_id</th>\n",
       "      <th>in_reply_to_status_id</th>\n",
       "      <th>in_reply_to_user_id</th>\n",
       "      <th>timestamp</th>\n",
       "      <th>source</th>\n",
       "      <th>text</th>\n",
       "      <th>retweeted_status_id</th>\n",
       "      <th>retweeted_status_user_id</th>\n",
       "      <th>retweeted_status_timestamp</th>\n",
       "      <th>expanded_urls</th>\n",
       "      <th>rating_numerator</th>\n",
       "      <th>rating_denominator</th>\n",
       "      <th>name</th>\n",
       "      <th>doggo</th>\n",
       "      <th>floofer</th>\n",
       "      <th>pupper</th>\n",
       "      <th>puppo</th>\n",
       "    </tr>\n",
       "  </thead>\n",
       "  <tbody>\n",
       "    <tr>\n",
       "      <th>59</th>\n",
       "      <td>880872448815771648</td>\n",
       "      <td>NaN</td>\n",
       "      <td>NaN</td>\n",
       "      <td>2017-06-30 19:35:32 +0000</td>\n",
       "      <td>&lt;a href=\"http://twitter.com/download/iphone\" r...</td>\n",
       "      <td>Ugh not again. We only rate dogs. Please don't...</td>\n",
       "      <td>NaN</td>\n",
       "      <td>NaN</td>\n",
       "      <td>NaN</td>\n",
       "      <td>https://twitter.com/dog_rates/status/880872448...</td>\n",
       "      <td>12</td>\n",
       "      <td>10</td>\n",
       "      <td>None</td>\n",
       "      <td>None</td>\n",
       "      <td>None</td>\n",
       "      <td>None</td>\n",
       "      <td>None</td>\n",
       "    </tr>\n",
       "    <tr>\n",
       "      <th>1176</th>\n",
       "      <td>719991154352222208</td>\n",
       "      <td>NaN</td>\n",
       "      <td>NaN</td>\n",
       "      <td>2016-04-12 20:50:42 +0000</td>\n",
       "      <td>&lt;a href=\"http://twitter.com/download/iphone\" r...</td>\n",
       "      <td>This doggo was initially thrilled when she saw...</td>\n",
       "      <td>NaN</td>\n",
       "      <td>NaN</td>\n",
       "      <td>NaN</td>\n",
       "      <td>https://twitter.com/dog_rates/status/719991154...</td>\n",
       "      <td>10</td>\n",
       "      <td>10</td>\n",
       "      <td>None</td>\n",
       "      <td>doggo</td>\n",
       "      <td>None</td>\n",
       "      <td>None</td>\n",
       "      <td>None</td>\n",
       "    </tr>\n",
       "    <tr>\n",
       "      <th>291</th>\n",
       "      <td>838085839343206401</td>\n",
       "      <td>8.380855e+17</td>\n",
       "      <td>2.894131e+09</td>\n",
       "      <td>2017-03-04 17:56:49 +0000</td>\n",
       "      <td>&lt;a href=\"http://twitter.com/download/iphone\" r...</td>\n",
       "      <td>@bragg6of8 @Andy_Pace_ we are still looking fo...</td>\n",
       "      <td>NaN</td>\n",
       "      <td>NaN</td>\n",
       "      <td>NaN</td>\n",
       "      <td>NaN</td>\n",
       "      <td>15</td>\n",
       "      <td>10</td>\n",
       "      <td>None</td>\n",
       "      <td>None</td>\n",
       "      <td>None</td>\n",
       "      <td>None</td>\n",
       "      <td>None</td>\n",
       "    </tr>\n",
       "    <tr>\n",
       "      <th>1646</th>\n",
       "      <td>683834909291606017</td>\n",
       "      <td>NaN</td>\n",
       "      <td>NaN</td>\n",
       "      <td>2016-01-04 02:18:42 +0000</td>\n",
       "      <td>&lt;a href=\"http://twitter.com/download/iphone\" r...</td>\n",
       "      <td>Here we see a faulty pupper. Might need to rep...</td>\n",
       "      <td>NaN</td>\n",
       "      <td>NaN</td>\n",
       "      <td>NaN</td>\n",
       "      <td>https://twitter.com/dog_rates/status/683834909...</td>\n",
       "      <td>9</td>\n",
       "      <td>10</td>\n",
       "      <td>None</td>\n",
       "      <td>None</td>\n",
       "      <td>None</td>\n",
       "      <td>pupper</td>\n",
       "      <td>None</td>\n",
       "    </tr>\n",
       "    <tr>\n",
       "      <th>1264</th>\n",
       "      <td>709918798883774466</td>\n",
       "      <td>NaN</td>\n",
       "      <td>NaN</td>\n",
       "      <td>2016-03-16 01:46:45 +0000</td>\n",
       "      <td>&lt;a href=\"http://twitter.com/download/iphone\" r...</td>\n",
       "      <td>Meet Watson. He's a Suzuki Tickleboop. Leader ...</td>\n",
       "      <td>NaN</td>\n",
       "      <td>NaN</td>\n",
       "      <td>NaN</td>\n",
       "      <td>https://twitter.com/dog_rates/status/709918798...</td>\n",
       "      <td>12</td>\n",
       "      <td>10</td>\n",
       "      <td>Watson</td>\n",
       "      <td>None</td>\n",
       "      <td>None</td>\n",
       "      <td>None</td>\n",
       "      <td>None</td>\n",
       "    </tr>\n",
       "  </tbody>\n",
       "</table>\n",
       "</div>"
      ],
      "text/plain": [
       "                tweet_id  in_reply_to_status_id  in_reply_to_user_id  \\\n",
       "59    880872448815771648                    NaN                  NaN   \n",
       "1176  719991154352222208                    NaN                  NaN   \n",
       "291   838085839343206401           8.380855e+17         2.894131e+09   \n",
       "1646  683834909291606017                    NaN                  NaN   \n",
       "1264  709918798883774466                    NaN                  NaN   \n",
       "\n",
       "                      timestamp  \\\n",
       "59    2017-06-30 19:35:32 +0000   \n",
       "1176  2016-04-12 20:50:42 +0000   \n",
       "291   2017-03-04 17:56:49 +0000   \n",
       "1646  2016-01-04 02:18:42 +0000   \n",
       "1264  2016-03-16 01:46:45 +0000   \n",
       "\n",
       "                                                 source  \\\n",
       "59    <a href=\"http://twitter.com/download/iphone\" r...   \n",
       "1176  <a href=\"http://twitter.com/download/iphone\" r...   \n",
       "291   <a href=\"http://twitter.com/download/iphone\" r...   \n",
       "1646  <a href=\"http://twitter.com/download/iphone\" r...   \n",
       "1264  <a href=\"http://twitter.com/download/iphone\" r...   \n",
       "\n",
       "                                                   text  retweeted_status_id  \\\n",
       "59    Ugh not again. We only rate dogs. Please don't...                  NaN   \n",
       "1176  This doggo was initially thrilled when she saw...                  NaN   \n",
       "291   @bragg6of8 @Andy_Pace_ we are still looking fo...                  NaN   \n",
       "1646  Here we see a faulty pupper. Might need to rep...                  NaN   \n",
       "1264  Meet Watson. He's a Suzuki Tickleboop. Leader ...                  NaN   \n",
       "\n",
       "      retweeted_status_user_id retweeted_status_timestamp  \\\n",
       "59                         NaN                        NaN   \n",
       "1176                       NaN                        NaN   \n",
       "291                        NaN                        NaN   \n",
       "1646                       NaN                        NaN   \n",
       "1264                       NaN                        NaN   \n",
       "\n",
       "                                          expanded_urls  rating_numerator  \\\n",
       "59    https://twitter.com/dog_rates/status/880872448...                12   \n",
       "1176  https://twitter.com/dog_rates/status/719991154...                10   \n",
       "291                                                 NaN                15   \n",
       "1646  https://twitter.com/dog_rates/status/683834909...                 9   \n",
       "1264  https://twitter.com/dog_rates/status/709918798...                12   \n",
       "\n",
       "      rating_denominator    name  doggo floofer  pupper puppo  \n",
       "59                    10    None   None    None    None  None  \n",
       "1176                  10    None  doggo    None    None  None  \n",
       "291                   10    None   None    None    None  None  \n",
       "1646                  10    None   None    None  pupper  None  \n",
       "1264                  10  Watson   None    None    None  None  "
      ]
     },
     "execution_count": 17,
     "metadata": {},
     "output_type": "execute_result"
    }
   ],
   "source": [
    "df.sample(5)"
   ]
  },
  {
   "cell_type": "code",
   "execution_count": 18,
   "metadata": {
    "scrolled": true
   },
   "outputs": [
    {
     "data": {
      "text/html": [
       "<div>\n",
       "<style scoped>\n",
       "    .dataframe tbody tr th:only-of-type {\n",
       "        vertical-align: middle;\n",
       "    }\n",
       "\n",
       "    .dataframe tbody tr th {\n",
       "        vertical-align: top;\n",
       "    }\n",
       "\n",
       "    .dataframe thead th {\n",
       "        text-align: right;\n",
       "    }\n",
       "</style>\n",
       "<table border=\"1\" class=\"dataframe\">\n",
       "  <thead>\n",
       "    <tr style=\"text-align: right;\">\n",
       "      <th></th>\n",
       "      <th>tweet_id</th>\n",
       "      <th>in_reply_to_status_id</th>\n",
       "      <th>in_reply_to_user_id</th>\n",
       "      <th>retweeted_status_id</th>\n",
       "      <th>retweeted_status_user_id</th>\n",
       "      <th>rating_numerator</th>\n",
       "      <th>rating_denominator</th>\n",
       "    </tr>\n",
       "  </thead>\n",
       "  <tbody>\n",
       "    <tr>\n",
       "      <th>count</th>\n",
       "      <td>2.356000e+03</td>\n",
       "      <td>7.800000e+01</td>\n",
       "      <td>7.800000e+01</td>\n",
       "      <td>1.810000e+02</td>\n",
       "      <td>1.810000e+02</td>\n",
       "      <td>2356.000000</td>\n",
       "      <td>2356.000000</td>\n",
       "    </tr>\n",
       "    <tr>\n",
       "      <th>mean</th>\n",
       "      <td>7.427716e+17</td>\n",
       "      <td>7.455079e+17</td>\n",
       "      <td>2.014171e+16</td>\n",
       "      <td>7.720400e+17</td>\n",
       "      <td>1.241698e+16</td>\n",
       "      <td>13.126486</td>\n",
       "      <td>10.455433</td>\n",
       "    </tr>\n",
       "    <tr>\n",
       "      <th>std</th>\n",
       "      <td>6.856705e+16</td>\n",
       "      <td>7.582492e+16</td>\n",
       "      <td>1.252797e+17</td>\n",
       "      <td>6.236928e+16</td>\n",
       "      <td>9.599254e+16</td>\n",
       "      <td>45.876648</td>\n",
       "      <td>6.745237</td>\n",
       "    </tr>\n",
       "    <tr>\n",
       "      <th>min</th>\n",
       "      <td>6.660209e+17</td>\n",
       "      <td>6.658147e+17</td>\n",
       "      <td>1.185634e+07</td>\n",
       "      <td>6.661041e+17</td>\n",
       "      <td>7.832140e+05</td>\n",
       "      <td>0.000000</td>\n",
       "      <td>0.000000</td>\n",
       "    </tr>\n",
       "    <tr>\n",
       "      <th>25%</th>\n",
       "      <td>6.783989e+17</td>\n",
       "      <td>6.757419e+17</td>\n",
       "      <td>3.086374e+08</td>\n",
       "      <td>7.186315e+17</td>\n",
       "      <td>4.196984e+09</td>\n",
       "      <td>10.000000</td>\n",
       "      <td>10.000000</td>\n",
       "    </tr>\n",
       "    <tr>\n",
       "      <th>50%</th>\n",
       "      <td>7.196279e+17</td>\n",
       "      <td>7.038708e+17</td>\n",
       "      <td>4.196984e+09</td>\n",
       "      <td>7.804657e+17</td>\n",
       "      <td>4.196984e+09</td>\n",
       "      <td>11.000000</td>\n",
       "      <td>10.000000</td>\n",
       "    </tr>\n",
       "    <tr>\n",
       "      <th>75%</th>\n",
       "      <td>7.993373e+17</td>\n",
       "      <td>8.257804e+17</td>\n",
       "      <td>4.196984e+09</td>\n",
       "      <td>8.203146e+17</td>\n",
       "      <td>4.196984e+09</td>\n",
       "      <td>12.000000</td>\n",
       "      <td>10.000000</td>\n",
       "    </tr>\n",
       "    <tr>\n",
       "      <th>max</th>\n",
       "      <td>8.924206e+17</td>\n",
       "      <td>8.862664e+17</td>\n",
       "      <td>8.405479e+17</td>\n",
       "      <td>8.874740e+17</td>\n",
       "      <td>7.874618e+17</td>\n",
       "      <td>1776.000000</td>\n",
       "      <td>170.000000</td>\n",
       "    </tr>\n",
       "  </tbody>\n",
       "</table>\n",
       "</div>"
      ],
      "text/plain": [
       "           tweet_id  in_reply_to_status_id  in_reply_to_user_id  \\\n",
       "count  2.356000e+03           7.800000e+01         7.800000e+01   \n",
       "mean   7.427716e+17           7.455079e+17         2.014171e+16   \n",
       "std    6.856705e+16           7.582492e+16         1.252797e+17   \n",
       "min    6.660209e+17           6.658147e+17         1.185634e+07   \n",
       "25%    6.783989e+17           6.757419e+17         3.086374e+08   \n",
       "50%    7.196279e+17           7.038708e+17         4.196984e+09   \n",
       "75%    7.993373e+17           8.257804e+17         4.196984e+09   \n",
       "max    8.924206e+17           8.862664e+17         8.405479e+17   \n",
       "\n",
       "       retweeted_status_id  retweeted_status_user_id  rating_numerator  \\\n",
       "count         1.810000e+02              1.810000e+02       2356.000000   \n",
       "mean          7.720400e+17              1.241698e+16         13.126486   \n",
       "std           6.236928e+16              9.599254e+16         45.876648   \n",
       "min           6.661041e+17              7.832140e+05          0.000000   \n",
       "25%           7.186315e+17              4.196984e+09         10.000000   \n",
       "50%           7.804657e+17              4.196984e+09         11.000000   \n",
       "75%           8.203146e+17              4.196984e+09         12.000000   \n",
       "max           8.874740e+17              7.874618e+17       1776.000000   \n",
       "\n",
       "       rating_denominator  \n",
       "count         2356.000000  \n",
       "mean            10.455433  \n",
       "std              6.745237  \n",
       "min              0.000000  \n",
       "25%             10.000000  \n",
       "50%             10.000000  \n",
       "75%             10.000000  \n",
       "max            170.000000  "
      ]
     },
     "execution_count": 18,
     "metadata": {},
     "output_type": "execute_result"
    }
   ],
   "source": [
    "df.describe()"
   ]
  },
  {
   "cell_type": "code",
   "execution_count": 19,
   "metadata": {},
   "outputs": [
    {
     "data": {
      "text/plain": [
       "<a href=\"http://twitter.com/download/iphone\" rel=\"nofollow\">Twitter for iPhone</a>     2221\n",
       "<a href=\"http://vine.co\" rel=\"nofollow\">Vine - Make a Scene</a>                          91\n",
       "<a href=\"http://twitter.com\" rel=\"nofollow\">Twitter Web Client</a>                       33\n",
       "<a href=\"https://about.twitter.com/products/tweetdeck\" rel=\"nofollow\">TweetDeck</a>      11\n",
       "Name: source, dtype: int64"
      ]
     },
     "execution_count": 19,
     "metadata": {},
     "output_type": "execute_result"
    }
   ],
   "source": [
    "df.source.value_counts()"
   ]
  },
  {
   "cell_type": "code",
   "execution_count": 20,
   "metadata": {
    "scrolled": true
   },
   "outputs": [
    {
     "data": {
      "text/plain": [
       "12      558\n",
       "11      464\n",
       "10      461\n",
       "13      351\n",
       "9       158\n",
       "8       102\n",
       "7        55\n",
       "14       54\n",
       "5        37\n",
       "6        32\n",
       "3        19\n",
       "4        17\n",
       "1         9\n",
       "2         9\n",
       "420       2\n",
       "0         2\n",
       "15        2\n",
       "75        2\n",
       "80        1\n",
       "20        1\n",
       "24        1\n",
       "26        1\n",
       "44        1\n",
       "50        1\n",
       "60        1\n",
       "165       1\n",
       "84        1\n",
       "88        1\n",
       "144       1\n",
       "182       1\n",
       "143       1\n",
       "666       1\n",
       "960       1\n",
       "1776      1\n",
       "17        1\n",
       "27        1\n",
       "45        1\n",
       "99        1\n",
       "121       1\n",
       "204       1\n",
       "Name: rating_numerator, dtype: int64"
      ]
     },
     "execution_count": 20,
     "metadata": {},
     "output_type": "execute_result"
    }
   ],
   "source": [
    "df['rating_numerator'].value_counts()"
   ]
  },
  {
   "cell_type": "code",
   "execution_count": 21,
   "metadata": {},
   "outputs": [
    {
     "data": {
      "text/plain": [
       "10     2333\n",
       "11        3\n",
       "50        3\n",
       "80        2\n",
       "20        2\n",
       "2         1\n",
       "16        1\n",
       "40        1\n",
       "70        1\n",
       "15        1\n",
       "90        1\n",
       "110       1\n",
       "120       1\n",
       "130       1\n",
       "150       1\n",
       "170       1\n",
       "7         1\n",
       "0         1\n",
       "Name: rating_denominator, dtype: int64"
      ]
     },
     "execution_count": 21,
     "metadata": {},
     "output_type": "execute_result"
    }
   ],
   "source": [
    "df['rating_denominator'].value_counts()"
   ]
  },
  {
   "cell_type": "code",
   "execution_count": 22,
   "metadata": {},
   "outputs": [
    {
     "data": {
      "text/plain": [
       "None       745\n",
       "a           55\n",
       "Charlie     12\n",
       "Cooper      11\n",
       "Oliver      11\n",
       "          ... \n",
       "Jed          1\n",
       "Rover        1\n",
       "Bruno        1\n",
       "Harlso       1\n",
       "Pumpkin      1\n",
       "Name: name, Length: 957, dtype: int64"
      ]
     },
     "execution_count": 22,
     "metadata": {},
     "output_type": "execute_result"
    }
   ],
   "source": [
    "df.name.value_counts()"
   ]
  },
  {
   "cell_type": "code",
   "execution_count": 23,
   "metadata": {},
   "outputs": [
    {
     "data": {
      "text/plain": [
       "0"
      ]
     },
     "execution_count": 23,
     "metadata": {},
     "output_type": "execute_result"
    }
   ],
   "source": [
    "df.tweet_id.duplicated().sum()"
   ]
  },
  {
   "cell_type": "code",
   "execution_count": 24,
   "metadata": {
    "scrolled": true
   },
   "outputs": [
    {
     "data": {
      "text/plain": [
       "Index(['tweet_id', 'jpg_url', 'img_num', 'p1', 'p1_conf', 'p1_dog', 'p2',\n",
       "       'p2_conf', 'p2_dog', 'p3', 'p3_conf', 'p3_dog'],\n",
       "      dtype='object')"
      ]
     },
     "execution_count": 24,
     "metadata": {},
     "output_type": "execute_result"
    }
   ],
   "source": [
    "image_predictions.columns"
   ]
  },
  {
   "cell_type": "code",
   "execution_count": 25,
   "metadata": {
    "scrolled": true
   },
   "outputs": [
    {
     "data": {
      "text/plain": [
       "True     1532\n",
       "False     543\n",
       "Name: p1_dog, dtype: int64"
      ]
     },
     "execution_count": 25,
     "metadata": {},
     "output_type": "execute_result"
    }
   ],
   "source": [
    "image_predictions.p1_dog.value_counts()"
   ]
  },
  {
   "cell_type": "code",
   "execution_count": 26,
   "metadata": {},
   "outputs": [
    {
     "data": {
      "text/plain": [
       "True     1553\n",
       "False     522\n",
       "Name: p2_dog, dtype: int64"
      ]
     },
     "execution_count": 26,
     "metadata": {},
     "output_type": "execute_result"
    }
   ],
   "source": [
    "image_predictions.p2_dog.value_counts()"
   ]
  },
  {
   "cell_type": "code",
   "execution_count": 27,
   "metadata": {},
   "outputs": [
    {
     "data": {
      "text/plain": [
       "True     1499\n",
       "False     576\n",
       "Name: p3_dog, dtype: int64"
      ]
     },
     "execution_count": 27,
     "metadata": {},
     "output_type": "execute_result"
    }
   ],
   "source": [
    "image_predictions.p3_dog.value_counts()"
   ]
  },
  {
   "cell_type": "code",
   "execution_count": 28,
   "metadata": {
    "scrolled": true
   },
   "outputs": [
    {
     "data": {
      "text/plain": [
       "tweet_id    324\n",
       "jpg_url     324\n",
       "img_num     324\n",
       "p1          324\n",
       "p1_conf     324\n",
       "p1_dog      324\n",
       "p2          324\n",
       "p2_conf     324\n",
       "p2_dog      324\n",
       "p3          324\n",
       "p3_conf     324\n",
       "p3_dog      324\n",
       "dtype: int64"
      ]
     },
     "execution_count": 28,
     "metadata": {},
     "output_type": "execute_result"
    }
   ],
   "source": [
    "fimage =image_predictions[(image_predictions['p1_dog']==False) & (image_predictions['p2_dog']==False) & (image_predictions['p3_dog']==False)]\n",
    "fimage.count()"
   ]
  },
  {
   "cell_type": "code",
   "execution_count": 29,
   "metadata": {},
   "outputs": [
    {
     "data": {
      "text/html": [
       "<div>\n",
       "<style scoped>\n",
       "    .dataframe tbody tr th:only-of-type {\n",
       "        vertical-align: middle;\n",
       "    }\n",
       "\n",
       "    .dataframe tbody tr th {\n",
       "        vertical-align: top;\n",
       "    }\n",
       "\n",
       "    .dataframe thead th {\n",
       "        text-align: right;\n",
       "    }\n",
       "</style>\n",
       "<table border=\"1\" class=\"dataframe\">\n",
       "  <thead>\n",
       "    <tr style=\"text-align: right;\">\n",
       "      <th></th>\n",
       "      <th>tweet_id</th>\n",
       "      <th>jpg_url</th>\n",
       "      <th>img_num</th>\n",
       "      <th>p1</th>\n",
       "      <th>p1_conf</th>\n",
       "      <th>p1_dog</th>\n",
       "      <th>p2</th>\n",
       "      <th>p2_conf</th>\n",
       "      <th>p2_dog</th>\n",
       "      <th>p3</th>\n",
       "      <th>p3_conf</th>\n",
       "      <th>p3_dog</th>\n",
       "    </tr>\n",
       "  </thead>\n",
       "  <tbody>\n",
       "    <tr>\n",
       "      <th>106</th>\n",
       "      <td>667866724293877760</td>\n",
       "      <td>https://pbs.twimg.com/media/CUS9PlUWwAANeAD.jpg</td>\n",
       "      <td>1</td>\n",
       "      <td>jigsaw_puzzle</td>\n",
       "      <td>1.000000</td>\n",
       "      <td>False</td>\n",
       "      <td>prayer_rug</td>\n",
       "      <td>1.011300e-08</td>\n",
       "      <td>False</td>\n",
       "      <td>doormat</td>\n",
       "      <td>1.740170e-10</td>\n",
       "      <td>False</td>\n",
       "    </tr>\n",
       "    <tr>\n",
       "      <th>142</th>\n",
       "      <td>668614819948453888</td>\n",
       "      <td>https://pbs.twimg.com/media/CUdloW8WEAAxB_Y.jpg</td>\n",
       "      <td>1</td>\n",
       "      <td>bustard</td>\n",
       "      <td>0.380772</td>\n",
       "      <td>False</td>\n",
       "      <td>pelican</td>\n",
       "      <td>1.005540e-01</td>\n",
       "      <td>False</td>\n",
       "      <td>crane</td>\n",
       "      <td>8.471350e-02</td>\n",
       "      <td>False</td>\n",
       "    </tr>\n",
       "    <tr>\n",
       "      <th>1312</th>\n",
       "      <td>754482103782404096</td>\n",
       "      <td>https://pbs.twimg.com/ext_tw_video_thumb/75448...</td>\n",
       "      <td>1</td>\n",
       "      <td>tub</td>\n",
       "      <td>0.596796</td>\n",
       "      <td>False</td>\n",
       "      <td>bathtub</td>\n",
       "      <td>3.810980e-01</td>\n",
       "      <td>False</td>\n",
       "      <td>shower_curtain</td>\n",
       "      <td>1.762880e-02</td>\n",
       "      <td>False</td>\n",
       "    </tr>\n",
       "    <tr>\n",
       "      <th>986</th>\n",
       "      <td>707693576495472641</td>\n",
       "      <td>https://pbs.twimg.com/media/CdI7jDnW0AA2dtO.jpg</td>\n",
       "      <td>1</td>\n",
       "      <td>bathtub</td>\n",
       "      <td>0.499525</td>\n",
       "      <td>False</td>\n",
       "      <td>tub</td>\n",
       "      <td>4.880140e-01</td>\n",
       "      <td>False</td>\n",
       "      <td>washbasin</td>\n",
       "      <td>9.298250e-03</td>\n",
       "      <td>False</td>\n",
       "    </tr>\n",
       "    <tr>\n",
       "      <th>655</th>\n",
       "      <td>682242692827447297</td>\n",
       "      <td>https://pbs.twimg.com/media/CXfQG_fW8AAjVhV.jpg</td>\n",
       "      <td>1</td>\n",
       "      <td>snorkel</td>\n",
       "      <td>0.504983</td>\n",
       "      <td>False</td>\n",
       "      <td>loggerhead</td>\n",
       "      <td>3.452980e-01</td>\n",
       "      <td>False</td>\n",
       "      <td>scuba_diver</td>\n",
       "      <td>7.475390e-02</td>\n",
       "      <td>False</td>\n",
       "    </tr>\n",
       "  </tbody>\n",
       "</table>\n",
       "</div>"
      ],
      "text/plain": [
       "                tweet_id                                            jpg_url  \\\n",
       "106   667866724293877760    https://pbs.twimg.com/media/CUS9PlUWwAANeAD.jpg   \n",
       "142   668614819948453888    https://pbs.twimg.com/media/CUdloW8WEAAxB_Y.jpg   \n",
       "1312  754482103782404096  https://pbs.twimg.com/ext_tw_video_thumb/75448...   \n",
       "986   707693576495472641    https://pbs.twimg.com/media/CdI7jDnW0AA2dtO.jpg   \n",
       "655   682242692827447297    https://pbs.twimg.com/media/CXfQG_fW8AAjVhV.jpg   \n",
       "\n",
       "      img_num             p1   p1_conf  p1_dog          p2       p2_conf  \\\n",
       "106         1  jigsaw_puzzle  1.000000   False  prayer_rug  1.011300e-08   \n",
       "142         1        bustard  0.380772   False     pelican  1.005540e-01   \n",
       "1312        1            tub  0.596796   False     bathtub  3.810980e-01   \n",
       "986         1        bathtub  0.499525   False         tub  4.880140e-01   \n",
       "655         1        snorkel  0.504983   False  loggerhead  3.452980e-01   \n",
       "\n",
       "      p2_dog              p3       p3_conf  p3_dog  \n",
       "106    False         doormat  1.740170e-10   False  \n",
       "142    False           crane  8.471350e-02   False  \n",
       "1312   False  shower_curtain  1.762880e-02   False  \n",
       "986    False       washbasin  9.298250e-03   False  \n",
       "655    False     scuba_diver  7.475390e-02   False  "
      ]
     },
     "execution_count": 29,
     "metadata": {},
     "output_type": "execute_result"
    }
   ],
   "source": [
    "fimage.sample(5)"
   ]
  },
  {
   "cell_type": "code",
   "execution_count": 115,
   "metadata": {},
   "outputs": [
    {
     "name": "stdout",
     "output_type": "stream",
     "text": [
      "2331\n",
      "0\n"
     ]
    }
   ],
   "source": [
    "#checking for all value is unique \n",
    "print(sum(tweet_info.groupby('tweet_id')['tweet_id'].nunique()))\n",
    "print(sum(tweet_info.tweet_id.duplicated()))"
   ]
  },
  {
   "cell_type": "markdown",
   "metadata": {},
   "source": [
    "### Quality:\n",
    "- Drop unnecessary columns\n",
    "- Change the data type from timestamp to datetime\n",
    "- update source column from url to text\n",
    "- make all values in ratings_denominator '10' for consistency\n",
    "- Drop (not_dogs) where p1, p2, and p3 are false\n",
    "- Keep real dog and maybe Dog from Dogs Predictions column\n",
    "- Check rating_numerator outliers\n",
    "- Change the data type of tweet_id from integer to string\n",
    "- Clean 'name' column. \n",
    "\n",
    "### Tidiness:\n",
    "- Gather stages of dogs (doggo, puppo, pupper, floofer) into one \n",
    "  column 'dog_stage'\n",
    "- Parse timestamp into separate columns: year, month, day, time\n",
    "-  Create 'Dogs_Predictions' column (Dog, Maybe Dog, Not Dog)"
   ]
  },
  {
   "cell_type": "markdown",
   "metadata": {},
   "source": [
    "# Cleaning Data\n",
    "#### It is where we will fix the quality and tidiness issues that we identified in the assess step and this section consists of the cleaning portion of the data wrangling.\n",
    "\n",
    "- Define\n",
    "- Code\n",
    "- Test\n"
   ]
  },
  {
   "cell_type": "code",
   "execution_count": 30,
   "metadata": {},
   "outputs": [],
   "source": [
    "df_clean=df.copy()\n",
    "t_clean= tweet_info.copy()\n",
    "i_clean= image_predictions.copy()"
   ]
  },
  {
   "cell_type": "code",
   "execution_count": 31,
   "metadata": {},
   "outputs": [
    {
     "data": {
      "text/html": [
       "<div>\n",
       "<style scoped>\n",
       "    .dataframe tbody tr th:only-of-type {\n",
       "        vertical-align: middle;\n",
       "    }\n",
       "\n",
       "    .dataframe tbody tr th {\n",
       "        vertical-align: top;\n",
       "    }\n",
       "\n",
       "    .dataframe thead th {\n",
       "        text-align: right;\n",
       "    }\n",
       "</style>\n",
       "<table border=\"1\" class=\"dataframe\">\n",
       "  <thead>\n",
       "    <tr style=\"text-align: right;\">\n",
       "      <th></th>\n",
       "      <th>tweet_id</th>\n",
       "      <th>in_reply_to_status_id</th>\n",
       "      <th>in_reply_to_user_id</th>\n",
       "      <th>timestamp</th>\n",
       "      <th>source</th>\n",
       "      <th>text</th>\n",
       "      <th>retweeted_status_id</th>\n",
       "      <th>retweeted_status_user_id</th>\n",
       "      <th>retweeted_status_timestamp</th>\n",
       "      <th>expanded_urls</th>\n",
       "      <th>rating_numerator</th>\n",
       "      <th>rating_denominator</th>\n",
       "      <th>name</th>\n",
       "      <th>doggo</th>\n",
       "      <th>floofer</th>\n",
       "      <th>pupper</th>\n",
       "      <th>puppo</th>\n",
       "    </tr>\n",
       "  </thead>\n",
       "  <tbody>\n",
       "    <tr>\n",
       "      <th>0</th>\n",
       "      <td>892420643555336193</td>\n",
       "      <td>NaN</td>\n",
       "      <td>NaN</td>\n",
       "      <td>2017-08-01 16:23:56 +0000</td>\n",
       "      <td>&lt;a href=\"http://twitter.com/download/iphone\" r...</td>\n",
       "      <td>This is Phineas. He's a mystical boy. Only eve...</td>\n",
       "      <td>NaN</td>\n",
       "      <td>NaN</td>\n",
       "      <td>NaN</td>\n",
       "      <td>https://twitter.com/dog_rates/status/892420643...</td>\n",
       "      <td>13</td>\n",
       "      <td>10</td>\n",
       "      <td>Phineas</td>\n",
       "      <td>None</td>\n",
       "      <td>None</td>\n",
       "      <td>None</td>\n",
       "      <td>None</td>\n",
       "    </tr>\n",
       "    <tr>\n",
       "      <th>1</th>\n",
       "      <td>892177421306343426</td>\n",
       "      <td>NaN</td>\n",
       "      <td>NaN</td>\n",
       "      <td>2017-08-01 00:17:27 +0000</td>\n",
       "      <td>&lt;a href=\"http://twitter.com/download/iphone\" r...</td>\n",
       "      <td>This is Tilly. She's just checking pup on you....</td>\n",
       "      <td>NaN</td>\n",
       "      <td>NaN</td>\n",
       "      <td>NaN</td>\n",
       "      <td>https://twitter.com/dog_rates/status/892177421...</td>\n",
       "      <td>13</td>\n",
       "      <td>10</td>\n",
       "      <td>Tilly</td>\n",
       "      <td>None</td>\n",
       "      <td>None</td>\n",
       "      <td>None</td>\n",
       "      <td>None</td>\n",
       "    </tr>\n",
       "    <tr>\n",
       "      <th>2</th>\n",
       "      <td>891815181378084864</td>\n",
       "      <td>NaN</td>\n",
       "      <td>NaN</td>\n",
       "      <td>2017-07-31 00:18:03 +0000</td>\n",
       "      <td>&lt;a href=\"http://twitter.com/download/iphone\" r...</td>\n",
       "      <td>This is Archie. He is a rare Norwegian Pouncin...</td>\n",
       "      <td>NaN</td>\n",
       "      <td>NaN</td>\n",
       "      <td>NaN</td>\n",
       "      <td>https://twitter.com/dog_rates/status/891815181...</td>\n",
       "      <td>12</td>\n",
       "      <td>10</td>\n",
       "      <td>Archie</td>\n",
       "      <td>None</td>\n",
       "      <td>None</td>\n",
       "      <td>None</td>\n",
       "      <td>None</td>\n",
       "    </tr>\n",
       "  </tbody>\n",
       "</table>\n",
       "</div>"
      ],
      "text/plain": [
       "             tweet_id  in_reply_to_status_id  in_reply_to_user_id  \\\n",
       "0  892420643555336193                    NaN                  NaN   \n",
       "1  892177421306343426                    NaN                  NaN   \n",
       "2  891815181378084864                    NaN                  NaN   \n",
       "\n",
       "                   timestamp  \\\n",
       "0  2017-08-01 16:23:56 +0000   \n",
       "1  2017-08-01 00:17:27 +0000   \n",
       "2  2017-07-31 00:18:03 +0000   \n",
       "\n",
       "                                              source  \\\n",
       "0  <a href=\"http://twitter.com/download/iphone\" r...   \n",
       "1  <a href=\"http://twitter.com/download/iphone\" r...   \n",
       "2  <a href=\"http://twitter.com/download/iphone\" r...   \n",
       "\n",
       "                                                text  retweeted_status_id  \\\n",
       "0  This is Phineas. He's a mystical boy. Only eve...                  NaN   \n",
       "1  This is Tilly. She's just checking pup on you....                  NaN   \n",
       "2  This is Archie. He is a rare Norwegian Pouncin...                  NaN   \n",
       "\n",
       "   retweeted_status_user_id retweeted_status_timestamp  \\\n",
       "0                       NaN                        NaN   \n",
       "1                       NaN                        NaN   \n",
       "2                       NaN                        NaN   \n",
       "\n",
       "                                       expanded_urls  rating_numerator  \\\n",
       "0  https://twitter.com/dog_rates/status/892420643...                13   \n",
       "1  https://twitter.com/dog_rates/status/892177421...                13   \n",
       "2  https://twitter.com/dog_rates/status/891815181...                12   \n",
       "\n",
       "   rating_denominator     name doggo floofer pupper puppo  \n",
       "0                  10  Phineas  None    None   None  None  \n",
       "1                  10    Tilly  None    None   None  None  \n",
       "2                  10   Archie  None    None   None  None  "
      ]
     },
     "execution_count": 31,
     "metadata": {},
     "output_type": "execute_result"
    }
   ],
   "source": [
    "df_clean.head(n=3)"
   ]
  },
  {
   "cell_type": "code",
   "execution_count": 32,
   "metadata": {
    "scrolled": false
   },
   "outputs": [
    {
     "name": "stdout",
     "output_type": "stream",
     "text": [
      "<class 'pandas.core.frame.DataFrame'>\n",
      "RangeIndex: 2356 entries, 0 to 2355\n",
      "Data columns (total 17 columns):\n",
      " #   Column                      Non-Null Count  Dtype  \n",
      "---  ------                      --------------  -----  \n",
      " 0   tweet_id                    2356 non-null   int64  \n",
      " 1   in_reply_to_status_id       78 non-null     float64\n",
      " 2   in_reply_to_user_id         78 non-null     float64\n",
      " 3   timestamp                   2356 non-null   object \n",
      " 4   source                      2356 non-null   object \n",
      " 5   text                        2356 non-null   object \n",
      " 6   retweeted_status_id         181 non-null    float64\n",
      " 7   retweeted_status_user_id    181 non-null    float64\n",
      " 8   retweeted_status_timestamp  181 non-null    object \n",
      " 9   expanded_urls               2297 non-null   object \n",
      " 10  rating_numerator            2356 non-null   int64  \n",
      " 11  rating_denominator          2356 non-null   int64  \n",
      " 12  name                        2356 non-null   object \n",
      " 13  doggo                       2356 non-null   object \n",
      " 14  floofer                     2356 non-null   object \n",
      " 15  pupper                      2356 non-null   object \n",
      " 16  puppo                       2356 non-null   object \n",
      "dtypes: float64(4), int64(3), object(10)\n",
      "memory usage: 313.0+ KB\n"
     ]
    }
   ],
   "source": [
    "df_clean.info()"
   ]
  },
  {
   "cell_type": "code",
   "execution_count": 33,
   "metadata": {},
   "outputs": [
    {
     "data": {
      "text/plain": [
       "(2356, 17)"
      ]
     },
     "execution_count": 33,
     "metadata": {},
     "output_type": "execute_result"
    }
   ],
   "source": [
    "df_clean.shape"
   ]
  },
  {
   "cell_type": "markdown",
   "metadata": {},
   "source": [
    "### Define:\n",
    "#### Drop missing value in df_clean and drop columns unneccessary."
   ]
  },
  {
   "cell_type": "markdown",
   "metadata": {},
   "source": [
    "### Code"
   ]
  },
  {
   "cell_type": "code",
   "execution_count": 34,
   "metadata": {},
   "outputs": [],
   "source": [
    "# drop missing value\n",
    "df_clean.drop(df_clean[df_clean.retweeted_status_id.notnull()].index, inplace=True)"
   ]
  },
  {
   "cell_type": "code",
   "execution_count": 35,
   "metadata": {},
   "outputs": [],
   "source": [
    "# drop unnecessary columns\n",
    "df_clean.drop(['in_reply_to_status_id','in_reply_to_user_id','retweeted_status_id','retweeted_status_user_id','retweeted_status_timestamp'], axis=1, inplace=True)"
   ]
  },
  {
   "cell_type": "markdown",
   "metadata": {},
   "source": [
    "### Test"
   ]
  },
  {
   "cell_type": "code",
   "execution_count": 36,
   "metadata": {},
   "outputs": [
    {
     "data": {
      "text/plain": [
       "12"
      ]
     },
     "execution_count": 36,
     "metadata": {},
     "output_type": "execute_result"
    }
   ],
   "source": [
    "df_clean.shape[1]"
   ]
  },
  {
   "cell_type": "code",
   "execution_count": 37,
   "metadata": {
    "scrolled": true
   },
   "outputs": [
    {
     "name": "stdout",
     "output_type": "stream",
     "text": [
      "<class 'pandas.core.frame.DataFrame'>\n",
      "Int64Index: 2175 entries, 0 to 2355\n",
      "Data columns (total 12 columns):\n",
      " #   Column              Non-Null Count  Dtype \n",
      "---  ------              --------------  ----- \n",
      " 0   tweet_id            2175 non-null   int64 \n",
      " 1   timestamp           2175 non-null   object\n",
      " 2   source              2175 non-null   object\n",
      " 3   text                2175 non-null   object\n",
      " 4   expanded_urls       2117 non-null   object\n",
      " 5   rating_numerator    2175 non-null   int64 \n",
      " 6   rating_denominator  2175 non-null   int64 \n",
      " 7   name                2175 non-null   object\n",
      " 8   doggo               2175 non-null   object\n",
      " 9   floofer             2175 non-null   object\n",
      " 10  pupper              2175 non-null   object\n",
      " 11  puppo               2175 non-null   object\n",
      "dtypes: int64(3), object(9)\n",
      "memory usage: 220.9+ KB\n"
     ]
    }
   ],
   "source": [
    "df_clean.info()"
   ]
  },
  {
   "cell_type": "markdown",
   "metadata": {},
   "source": [
    "### Define:\n",
    "#### Merge dog stage columns (doggo, floofer, pupper, puppo) into one 'dog_stage' column. "
   ]
  },
  {
   "cell_type": "markdown",
   "metadata": {},
   "source": [
    "### Code"
   ]
  },
  {
   "cell_type": "code",
   "execution_count": 43,
   "metadata": {},
   "outputs": [],
   "source": [
    "# replace empty value with a space\n",
    "df_clean.doggo.replace( 'None', '', inplace=True)\n",
    "df_clean.floofer.replace( 'None', '', inplace=True)\n",
    "df_clean.pupper.replace( 'None', '', inplace=True)\n",
    "df_clean.puppo.replace( 'None', '', inplace=True)"
   ]
  },
  {
   "cell_type": "code",
   "execution_count": 44,
   "metadata": {},
   "outputs": [],
   "source": [
    "# create new column \"dog_stage\" and merge 4 column \n",
    "df_clean['dog_stage'] = df_clean.doggo + df_clean.floofer + df_clean.pupper + df_clean.puppo"
   ]
  },
  {
   "cell_type": "code",
   "execution_count": 45,
   "metadata": {},
   "outputs": [
    {
     "data": {
      "text/plain": [
       "Index(['tweet_id', 'timestamp', 'source', 'text', 'expanded_urls',\n",
       "       'rating_numerator', 'rating_denominator', 'name', 'doggo', 'floofer',\n",
       "       'pupper', 'puppo', 'dog_stage'],\n",
       "      dtype='object')"
      ]
     },
     "execution_count": 45,
     "metadata": {},
     "output_type": "execute_result"
    }
   ],
   "source": [
    "df_clean.columns"
   ]
  },
  {
   "cell_type": "code",
   "execution_count": 46,
   "metadata": {
    "scrolled": true
   },
   "outputs": [
    {
     "data": {
      "text/html": [
       "<div>\n",
       "<style scoped>\n",
       "    .dataframe tbody tr th:only-of-type {\n",
       "        vertical-align: middle;\n",
       "    }\n",
       "\n",
       "    .dataframe tbody tr th {\n",
       "        vertical-align: top;\n",
       "    }\n",
       "\n",
       "    .dataframe thead th {\n",
       "        text-align: right;\n",
       "    }\n",
       "</style>\n",
       "<table border=\"1\" class=\"dataframe\">\n",
       "  <thead>\n",
       "    <tr style=\"text-align: right;\">\n",
       "      <th></th>\n",
       "      <th>doggo</th>\n",
       "      <th>floofer</th>\n",
       "      <th>pupper</th>\n",
       "      <th>puppo</th>\n",
       "      <th>dog_stage</th>\n",
       "    </tr>\n",
       "  </thead>\n",
       "  <tbody>\n",
       "    <tr>\n",
       "      <th>2348</th>\n",
       "      <td></td>\n",
       "      <td></td>\n",
       "      <td></td>\n",
       "      <td></td>\n",
       "      <td></td>\n",
       "    </tr>\n",
       "    <tr>\n",
       "      <th>1807</th>\n",
       "      <td></td>\n",
       "      <td></td>\n",
       "      <td>pupper</td>\n",
       "      <td></td>\n",
       "      <td>pupper</td>\n",
       "    </tr>\n",
       "    <tr>\n",
       "      <th>2074</th>\n",
       "      <td></td>\n",
       "      <td></td>\n",
       "      <td></td>\n",
       "      <td></td>\n",
       "      <td></td>\n",
       "    </tr>\n",
       "    <tr>\n",
       "      <th>2146</th>\n",
       "      <td></td>\n",
       "      <td></td>\n",
       "      <td></td>\n",
       "      <td></td>\n",
       "      <td></td>\n",
       "    </tr>\n",
       "    <tr>\n",
       "      <th>1466</th>\n",
       "      <td></td>\n",
       "      <td></td>\n",
       "      <td></td>\n",
       "      <td></td>\n",
       "      <td></td>\n",
       "    </tr>\n",
       "  </tbody>\n",
       "</table>\n",
       "</div>"
      ],
      "text/plain": [
       "     doggo floofer  pupper puppo dog_stage\n",
       "2348                                      \n",
       "1807                pupper          pupper\n",
       "2074                                      \n",
       "2146                                      \n",
       "1466                                      "
      ]
     },
     "execution_count": 46,
     "metadata": {},
     "output_type": "execute_result"
    }
   ],
   "source": [
    "df_clean[['doggo', 'floofer', 'pupper', 'puppo', 'dog_stage']].sample(5)"
   ]
  },
  {
   "cell_type": "code",
   "execution_count": 47,
   "metadata": {},
   "outputs": [],
   "source": [
    "# replace space with NaNs\n",
    "df_clean.loc[df_clean.dog_stage== '', 'dog_stage'] = np.nan"
   ]
  },
  {
   "cell_type": "code",
   "execution_count": 48,
   "metadata": {},
   "outputs": [
    {
     "data": {
      "text/plain": [
       "Unknown         1831\n",
       "pupper           224\n",
       "doggo             75\n",
       "puppo             24\n",
       "doggopupper       10\n",
       "floofer            9\n",
       "doggofloofer       1\n",
       "doggopuppo         1\n",
       "Name: dog_stage, dtype: int64"
      ]
     },
     "execution_count": 48,
     "metadata": {},
     "output_type": "execute_result"
    }
   ],
   "source": [
    "df_clean.dog_stage = df_clean.dog_stage.fillna('Unknown')\n",
    "df_clean.dog_stage.value_counts()"
   ]
  },
  {
   "cell_type": "code",
   "execution_count": 49,
   "metadata": {},
   "outputs": [],
   "source": [
    "# drop unnecessary columns\n",
    "df_clean.drop(['pupper','doggo','puppo', 'floofer'],axis=1, inplace=True)"
   ]
  },
  {
   "cell_type": "markdown",
   "metadata": {},
   "source": [
    "### Test"
   ]
  },
  {
   "cell_type": "code",
   "execution_count": 50,
   "metadata": {},
   "outputs": [
    {
     "data": {
      "text/plain": [
       "Index(['tweet_id', 'timestamp', 'source', 'text', 'expanded_urls',\n",
       "       'rating_numerator', 'rating_denominator', 'name', 'dog_stage'],\n",
       "      dtype='object')"
      ]
     },
     "execution_count": 50,
     "metadata": {},
     "output_type": "execute_result"
    }
   ],
   "source": [
    "df_clean.columns"
   ]
  },
  {
   "cell_type": "markdown",
   "metadata": {},
   "source": [
    "### Define:\n",
    "#### Change source links with text string defining the link."
   ]
  },
  {
   "cell_type": "markdown",
   "metadata": {},
   "source": [
    "### Code"
   ]
  },
  {
   "cell_type": "code",
   "execution_count": 51,
   "metadata": {},
   "outputs": [],
   "source": [
    "source_txt = {'<a href=\"http://twitter.com/download/iphone\" rel=\"nofollow\">Twitter for iPhone</a>': 'Twitter for iPhone',\n",
    "              '<a href=\"http://vine.co\" rel=\"nofollow\">Vine - Make a Scene</a>': 'Vine - Make a Scene',\n",
    "              '<a href=\"http://twitter.com\" rel=\"nofollow\">Twitter Web Client</a>': 'Twitter Web Client',\n",
    "              '<a href=\"https://about.twitter.com/products/tweetdeck\" rel=\"nofollow\">TweetDeck</a>': 'TweetDeck'}\n",
    "\n",
    "def text_source(df_clean):\n",
    "    if df_clean['source'] in source_txt.keys():\n",
    "        abbrev = source_txt[df_clean['source']]\n",
    "        return abbrev \n",
    "    else:\n",
    "        return df_clean['source']\n",
    "\n",
    "df_clean['source'] =df_clean.apply(text_source, axis=1)"
   ]
  },
  {
   "cell_type": "markdown",
   "metadata": {},
   "source": [
    "### Test"
   ]
  },
  {
   "cell_type": "code",
   "execution_count": 52,
   "metadata": {},
   "outputs": [
    {
     "data": {
      "text/plain": [
       "Twitter for iPhone     2042\n",
       "Vine - Make a Scene      91\n",
       "Twitter Web Client       31\n",
       "TweetDeck                11\n",
       "Name: source, dtype: int64"
      ]
     },
     "execution_count": 52,
     "metadata": {},
     "output_type": "execute_result"
    }
   ],
   "source": [
    "df_clean.source.value_counts()"
   ]
  },
  {
   "cell_type": "markdown",
   "metadata": {},
   "source": [
    "### Define:\n",
    "#### Merge t_clean and df_clean, through inner join (default) on 'tweet_id'."
   ]
  },
  {
   "cell_type": "markdown",
   "metadata": {},
   "source": [
    "### Code"
   ]
  },
  {
   "cell_type": "code",
   "execution_count": 53,
   "metadata": {
    "scrolled": true
   },
   "outputs": [],
   "source": [
    "df_master = pd.merge(df_clean, t_clean, on='tweet_id', how = 'inner')"
   ]
  },
  {
   "cell_type": "markdown",
   "metadata": {},
   "source": [
    "### Test"
   ]
  },
  {
   "cell_type": "code",
   "execution_count": 54,
   "metadata": {},
   "outputs": [
    {
     "name": "stdout",
     "output_type": "stream",
     "text": [
      "<class 'pandas.core.frame.DataFrame'>\n",
      "Int64Index: 2168 entries, 0 to 2167\n",
      "Data columns (total 11 columns):\n",
      " #   Column              Non-Null Count  Dtype \n",
      "---  ------              --------------  ----- \n",
      " 0   tweet_id            2168 non-null   int64 \n",
      " 1   timestamp           2168 non-null   object\n",
      " 2   source              2168 non-null   object\n",
      " 3   text                2168 non-null   object\n",
      " 4   expanded_urls       2110 non-null   object\n",
      " 5   rating_numerator    2168 non-null   int64 \n",
      " 6   rating_denominator  2168 non-null   int64 \n",
      " 7   name                2168 non-null   object\n",
      " 8   dog_stage           2168 non-null   object\n",
      " 9   retweet_count       2168 non-null   int64 \n",
      " 10  favorite_count      2168 non-null   int64 \n",
      "dtypes: int64(5), object(6)\n",
      "memory usage: 203.2+ KB\n"
     ]
    }
   ],
   "source": [
    "df_master.info()"
   ]
  },
  {
   "cell_type": "code",
   "execution_count": 55,
   "metadata": {},
   "outputs": [
    {
     "data": {
      "text/plain": [
       "(2168, 11)"
      ]
     },
     "execution_count": 55,
     "metadata": {},
     "output_type": "execute_result"
    }
   ],
   "source": [
    "df_master.shape"
   ]
  },
  {
   "cell_type": "code",
   "execution_count": 56,
   "metadata": {},
   "outputs": [
    {
     "data": {
      "text/plain": [
       "tweet_id               int64\n",
       "timestamp             object\n",
       "source                object\n",
       "text                  object\n",
       "expanded_urls         object\n",
       "rating_numerator       int64\n",
       "rating_denominator     int64\n",
       "name                  object\n",
       "dog_stage             object\n",
       "retweet_count          int64\n",
       "favorite_count         int64\n",
       "dtype: object"
      ]
     },
     "execution_count": 56,
     "metadata": {},
     "output_type": "execute_result"
    }
   ],
   "source": [
    "df_master.dtypes"
   ]
  },
  {
   "cell_type": "markdown",
   "metadata": {},
   "source": [
    "### Define:\n",
    "#### Change timestamp to datetime and spread into 4 columns for year, month, day, and time."
   ]
  },
  {
   "cell_type": "markdown",
   "metadata": {},
   "source": [
    "### Code"
   ]
  },
  {
   "cell_type": "code",
   "execution_count": 57,
   "metadata": {},
   "outputs": [],
   "source": [
    "# change the data type from timestamp to datetime\n",
    "df_master['timestamp'] = pd.to_datetime(df_master['timestamp'])\n"
   ]
  },
  {
   "cell_type": "code",
   "execution_count": 58,
   "metadata": {},
   "outputs": [
    {
     "data": {
      "text/plain": [
       "tweet_id                            int64\n",
       "timestamp             datetime64[ns, UTC]\n",
       "source                             object\n",
       "text                               object\n",
       "expanded_urls                      object\n",
       "rating_numerator                    int64\n",
       "rating_denominator                  int64\n",
       "name                               object\n",
       "dog_stage                          object\n",
       "retweet_count                       int64\n",
       "favorite_count                      int64\n",
       "dtype: object"
      ]
     },
     "execution_count": 58,
     "metadata": {},
     "output_type": "execute_result"
    }
   ],
   "source": [
    "df_master.dtypes"
   ]
  },
  {
   "cell_type": "code",
   "execution_count": 59,
   "metadata": {},
   "outputs": [],
   "source": [
    "# create new columns (year, month, day, time)\n",
    "df_master['year'] = df_master['timestamp'].dt.year\n",
    "df_master['month'] = df_master['timestamp'].dt.month\n",
    "df_master['day'] = df_master['timestamp'].dt.day\n",
    "df_master['time'] = df_master['timestamp'].dt.time\n"
   ]
  },
  {
   "cell_type": "code",
   "execution_count": 60,
   "metadata": {
    "scrolled": true
   },
   "outputs": [
    {
     "data": {
      "text/plain": [
       "Index(['tweet_id', 'timestamp', 'source', 'text', 'expanded_urls',\n",
       "       'rating_numerator', 'rating_denominator', 'name', 'dog_stage',\n",
       "       'retweet_count', 'favorite_count', 'year', 'month', 'day', 'time'],\n",
       "      dtype='object')"
      ]
     },
     "execution_count": 60,
     "metadata": {},
     "output_type": "execute_result"
    }
   ],
   "source": [
    "df_master.columns"
   ]
  },
  {
   "cell_type": "code",
   "execution_count": 61,
   "metadata": {},
   "outputs": [
    {
     "data": {
      "text/plain": [
       "2016    1086\n",
       "2015     687\n",
       "2017     395\n",
       "Name: year, dtype: int64"
      ]
     },
     "execution_count": 61,
     "metadata": {},
     "output_type": "execute_result"
    }
   ],
   "source": [
    "df_master['year'].value_counts()"
   ]
  },
  {
   "cell_type": "code",
   "execution_count": 62,
   "metadata": {},
   "outputs": [
    {
     "data": {
      "text/plain": [
       "12    446\n",
       "11    358\n",
       "1     265\n",
       "2     196\n",
       "3     191\n",
       "7     149\n",
       "6     143\n",
       "4     109\n",
       "5     105\n",
       "10     73\n",
       "9      68\n",
       "8      65\n",
       "Name: month, dtype: int64"
      ]
     },
     "execution_count": 62,
     "metadata": {},
     "output_type": "execute_result"
    }
   ],
   "source": [
    "df_master['month'].value_counts()"
   ]
  },
  {
   "cell_type": "code",
   "execution_count": 63,
   "metadata": {},
   "outputs": [],
   "source": [
    "#Create  new column (WeekDay)\n",
    "df_master['WeekDay'] = df_master['timestamp'].dt.dayofweek\n",
    "days = {0:'Mon',1:'Tues',2:'Weds',3:'Thurs',4:'Fri',5:'Sat',6:'Sun'}\n",
    "df_master['WeekDay'] = df_master['WeekDay'].apply(lambda x: days[x])"
   ]
  },
  {
   "cell_type": "markdown",
   "metadata": {},
   "source": [
    "### Test"
   ]
  },
  {
   "cell_type": "code",
   "execution_count": 64,
   "metadata": {},
   "outputs": [
    {
     "name": "stdout",
     "output_type": "stream",
     "text": [
      "<class 'pandas.core.frame.DataFrame'>\n",
      "Int64Index: 2168 entries, 0 to 2167\n",
      "Data columns (total 16 columns):\n",
      " #   Column              Non-Null Count  Dtype              \n",
      "---  ------              --------------  -----              \n",
      " 0   tweet_id            2168 non-null   int64              \n",
      " 1   timestamp           2168 non-null   datetime64[ns, UTC]\n",
      " 2   source              2168 non-null   object             \n",
      " 3   text                2168 non-null   object             \n",
      " 4   expanded_urls       2110 non-null   object             \n",
      " 5   rating_numerator    2168 non-null   int64              \n",
      " 6   rating_denominator  2168 non-null   int64              \n",
      " 7   name                2168 non-null   object             \n",
      " 8   dog_stage           2168 non-null   object             \n",
      " 9   retweet_count       2168 non-null   int64              \n",
      " 10  favorite_count      2168 non-null   int64              \n",
      " 11  year                2168 non-null   int64              \n",
      " 12  month               2168 non-null   int64              \n",
      " 13  day                 2168 non-null   int64              \n",
      " 14  time                2168 non-null   object             \n",
      " 15  WeekDay             2168 non-null   object             \n",
      "dtypes: datetime64[ns, UTC](1), int64(8), object(7)\n",
      "memory usage: 287.9+ KB\n"
     ]
    }
   ],
   "source": [
    "df_master.info()"
   ]
  },
  {
   "cell_type": "code",
   "execution_count": 65,
   "metadata": {
    "scrolled": true
   },
   "outputs": [
    {
     "data": {
      "text/plain": [
       "Mon      357\n",
       "Tues     326\n",
       "Weds     320\n",
       "Fri      303\n",
       "Thurs    302\n",
       "Sat      284\n",
       "Sun      276\n",
       "Name: WeekDay, dtype: int64"
      ]
     },
     "execution_count": 65,
     "metadata": {},
     "output_type": "execute_result"
    }
   ],
   "source": [
    "df_master['WeekDay'].value_counts()"
   ]
  },
  {
   "cell_type": "markdown",
   "metadata": {},
   "source": [
    "### Define:\n",
    "#### gathering dog stages from multiple columns into one, creating a “Dogs_Predictions” column (dog, not dog, maybe dog), and combining the three datasets into one. \n",
    "  "
   ]
  },
  {
   "cell_type": "markdown",
   "metadata": {},
   "source": [
    "### Code"
   ]
  },
  {
   "cell_type": "code",
   "execution_count": 66,
   "metadata": {},
   "outputs": [],
   "source": [
    "#change datatype for (p1_dog, p2_dog, p3_dog) to integer\n",
    "predictions_dog =['p1_dog', 'p2_dog', 'p3_dog']\n",
    "for p in predictions_dog:\n",
    "    i_clean[p] =i_clean[p].astype(int)"
   ]
  },
  {
   "cell_type": "code",
   "execution_count": 67,
   "metadata": {},
   "outputs": [],
   "source": [
    "# Create new column 'Dogs_Predictions' and insert into the column number of True and False\n",
    "i_clean['Dogs_Predictions'] = i_clean.p1_dog + i_clean.p2_dog + i_clean.p3_dog"
   ]
  },
  {
   "cell_type": "code",
   "execution_count": 68,
   "metadata": {},
   "outputs": [],
   "source": [
    "# change the number with a text and the text based on (0, 'Not Dog'), (1 or 2 'Maybe Dog'), (3, 'Dog')\n",
    "i_clean['Dogs_Predictions'] = i_clean['Dogs_Predictions'].replace(0, 'not dog')\n",
    "i_clean['Dogs_Predictions'] = i_clean['Dogs_Predictions'].replace(1, 'maybe dog')\n",
    "i_clean['Dogs_Predictions'] = i_clean['Dogs_Predictions'].replace(2, 'maybe dog')\n",
    "i_clean['Dogs_Predictions'] = i_clean['Dogs_Predictions'].replace(3, 'real dog')"
   ]
  },
  {
   "cell_type": "markdown",
   "metadata": {},
   "source": [
    "### Test"
   ]
  },
  {
   "cell_type": "code",
   "execution_count": 69,
   "metadata": {},
   "outputs": [
    {
     "data": {
      "text/plain": [
       "real dog     1243\n",
       "maybe dog     508\n",
       "not dog       324\n",
       "Name: Dogs_Predictions, dtype: int64"
      ]
     },
     "execution_count": 69,
     "metadata": {},
     "output_type": "execute_result"
    }
   ],
   "source": [
    "#checking based on Dogs Predictions how many real dog, maybe dog, not dog\n",
    "i_clean.Dogs_Predictions.value_counts()"
   ]
  },
  {
   "cell_type": "markdown",
   "metadata": {},
   "source": [
    "### Define:\n",
    "#### drop the ( p1 _dog, p2_dog, and p3_dog) columns it is don't needed"
   ]
  },
  {
   "cell_type": "markdown",
   "metadata": {},
   "source": [
    "### Code"
   ]
  },
  {
   "cell_type": "code",
   "execution_count": 70,
   "metadata": {},
   "outputs": [],
   "source": [
    "# now i don't needed for ('p1_dog', 'p2_dog', 'p3_dog', 'img_num') so i drop it\n",
    "i_clean.drop(['p1_dog', 'p2_dog', 'p3_dog', 'img_num'], axis=1, inplace=True)"
   ]
  },
  {
   "cell_type": "markdown",
   "metadata": {},
   "source": [
    "### Test "
   ]
  },
  {
   "cell_type": "code",
   "execution_count": 71,
   "metadata": {},
   "outputs": [
    {
     "data": {
      "text/plain": [
       "Index(['tweet_id', 'jpg_url', 'p1', 'p1_conf', 'p2', 'p2_conf', 'p3',\n",
       "       'p3_conf', 'Dogs_Predictions'],\n",
       "      dtype='object')"
      ]
     },
     "execution_count": 71,
     "metadata": {},
     "output_type": "execute_result"
    }
   ],
   "source": [
    "i_clean.columns"
   ]
  },
  {
   "cell_type": "markdown",
   "metadata": {},
   "source": [
    "### Define:\n",
    "#### Join i_clean to df_master on 'tweet_id'"
   ]
  },
  {
   "cell_type": "markdown",
   "metadata": {},
   "source": [
    "### Code"
   ]
  },
  {
   "cell_type": "code",
   "execution_count": 72,
   "metadata": {},
   "outputs": [],
   "source": [
    "#Join between df_master and i_clean\n",
    "df_master = pd.merge(df_master, i_clean, on='tweet_id')"
   ]
  },
  {
   "cell_type": "markdown",
   "metadata": {},
   "source": [
    "### Test "
   ]
  },
  {
   "cell_type": "code",
   "execution_count": 73,
   "metadata": {
    "scrolled": true
   },
   "outputs": [
    {
     "data": {
      "text/plain": [
       "Index(['tweet_id', 'timestamp', 'source', 'text', 'expanded_urls',\n",
       "       'rating_numerator', 'rating_denominator', 'name', 'dog_stage',\n",
       "       'retweet_count', 'favorite_count', 'year', 'month', 'day', 'time',\n",
       "       'WeekDay', 'jpg_url', 'p1', 'p1_conf', 'p2', 'p2_conf', 'p3', 'p3_conf',\n",
       "       'Dogs_Predictions'],\n",
       "      dtype='object')"
      ]
     },
     "execution_count": 73,
     "metadata": {},
     "output_type": "execute_result"
    }
   ],
   "source": [
    "# show df_master after join \n",
    "df_master.columns"
   ]
  },
  {
   "cell_type": "markdown",
   "metadata": {},
   "source": [
    "### Define:\n",
    "#### make all values in ratings_denominator '10' for consistency"
   ]
  },
  {
   "cell_type": "markdown",
   "metadata": {},
   "source": [
    "### Code"
   ]
  },
  {
   "cell_type": "code",
   "execution_count": 74,
   "metadata": {},
   "outputs": [],
   "source": [
    "# drop 'rating_denominator' \n",
    "df_master.drop(['rating_denominator'], axis=1, inplace=True )"
   ]
  },
  {
   "cell_type": "code",
   "execution_count": 77,
   "metadata": {},
   "outputs": [],
   "source": [
    "# rename 'rating_numerator' to 'The_Rating'\n",
    "df_master.rename(columns={'rating_numerator': 'The_Rating'}, inplace=True)"
   ]
  },
  {
   "cell_type": "markdown",
   "metadata": {},
   "source": [
    "### Test"
   ]
  },
  {
   "cell_type": "code",
   "execution_count": 76,
   "metadata": {},
   "outputs": [
    {
     "data": {
      "text/plain": [
       "Index(['tweet_id', 'timestamp', 'source', 'text', 'expanded_urls',\n",
       "       'The_Rating', 'name', 'dog_stage', 'retweet_count', 'favorite_count',\n",
       "       'year', 'month', 'day', 'time', 'WeekDay', 'jpg_url', 'p1', 'p1_conf',\n",
       "       'p2', 'p2_conf', 'p3', 'p3_conf', 'Dogs_Predictions'],\n",
       "      dtype='object')"
      ]
     },
     "execution_count": 76,
     "metadata": {},
     "output_type": "execute_result"
    }
   ],
   "source": [
    "df_master.columns"
   ]
  },
  {
   "cell_type": "markdown",
   "metadata": {},
   "source": [
    "### Define:\n",
    "#### Clean 'name' column. "
   ]
  },
  {
   "cell_type": "markdown",
   "metadata": {},
   "source": [
    "#### Code"
   ]
  },
  {
   "cell_type": "code",
   "execution_count": 78,
   "metadata": {
    "scrolled": true
   },
   "outputs": [
    {
     "data": {
      "text/plain": [
       "None          546\n",
       "a              55\n",
       "Cooper         10\n",
       "Charlie        10\n",
       "Oliver         10\n",
       "             ... \n",
       "Pete            1\n",
       "Champ           1\n",
       "Crawford        1\n",
       "Brandonald      1\n",
       "Jeremy          1\n",
       "Name: name, Length: 934, dtype: int64"
      ]
     },
     "execution_count": 78,
     "metadata": {},
     "output_type": "execute_result"
    }
   ],
   "source": [
    "df_master['name'].value_counts()"
   ]
  },
  {
   "cell_type": "code",
   "execution_count": 79,
   "metadata": {},
   "outputs": [],
   "source": [
    "w_name = df_master.name.str.islower()\n",
    "df_master.loc[w_name, 'name'] = 'None'\n",
    "df_master.name = df_master.name.str.title()"
   ]
  },
  {
   "cell_type": "markdown",
   "metadata": {},
   "source": [
    "### Test "
   ]
  },
  {
   "cell_type": "code",
   "execution_count": 80,
   "metadata": {
    "scrolled": true
   },
   "outputs": [
    {
     "data": {
      "text/plain": [
       "None       644\n",
       "Charlie     10\n",
       "Oliver      10\n",
       "Cooper      10\n",
       "Penny        9\n",
       "          ... \n",
       "Sailer       1\n",
       "Mack         1\n",
       "Vince        1\n",
       "Mo           1\n",
       "Grizzie      1\n",
       "Name: name, Length: 912, dtype: int64"
      ]
     },
     "execution_count": 80,
     "metadata": {},
     "output_type": "execute_result"
    }
   ],
   "source": [
    "df_master['name'].value_counts()"
   ]
  },
  {
   "cell_type": "markdown",
   "metadata": {},
   "source": [
    "### Define:\n",
    "#### For the predictions (p1, p2, p3), remove underscores."
   ]
  },
  {
   "cell_type": "markdown",
   "metadata": {},
   "source": [
    "### Code"
   ]
  },
  {
   "cell_type": "code",
   "execution_count": 81,
   "metadata": {},
   "outputs": [],
   "source": [
    "# replace from '_'  to \" \"\n",
    "n_predictions = ['p1', 'p2', 'p3']\n",
    "for p in n_predictions:\n",
    "    df_master[p] =df_master[p].str.title().str.replace('_', \" \")"
   ]
  },
  {
   "cell_type": "markdown",
   "metadata": {},
   "source": [
    "### Test"
   ]
  },
  {
   "cell_type": "code",
   "execution_count": 82,
   "metadata": {
    "scrolled": true
   },
   "outputs": [
    {
     "data": {
      "text/html": [
       "<div>\n",
       "<style scoped>\n",
       "    .dataframe tbody tr th:only-of-type {\n",
       "        vertical-align: middle;\n",
       "    }\n",
       "\n",
       "    .dataframe tbody tr th {\n",
       "        vertical-align: top;\n",
       "    }\n",
       "\n",
       "    .dataframe thead th {\n",
       "        text-align: right;\n",
       "    }\n",
       "</style>\n",
       "<table border=\"1\" class=\"dataframe\">\n",
       "  <thead>\n",
       "    <tr style=\"text-align: right;\">\n",
       "      <th></th>\n",
       "      <th>p1</th>\n",
       "      <th>p2</th>\n",
       "      <th>p3</th>\n",
       "    </tr>\n",
       "  </thead>\n",
       "  <tbody>\n",
       "    <tr>\n",
       "      <th>143</th>\n",
       "      <td>Golden Retriever</td>\n",
       "      <td>Labrador Retriever</td>\n",
       "      <td>Saluki</td>\n",
       "    </tr>\n",
       "    <tr>\n",
       "      <th>1802</th>\n",
       "      <td>Golden Retriever</td>\n",
       "      <td>Irish Setter</td>\n",
       "      <td>Cocker Spaniel</td>\n",
       "    </tr>\n",
       "    <tr>\n",
       "      <th>1814</th>\n",
       "      <td>Comic Book</td>\n",
       "      <td>Bib</td>\n",
       "      <td>Jersey</td>\n",
       "    </tr>\n",
       "    <tr>\n",
       "      <th>536</th>\n",
       "      <td>Vizsla</td>\n",
       "      <td>Mongoose</td>\n",
       "      <td>Hatchet</td>\n",
       "    </tr>\n",
       "    <tr>\n",
       "      <th>855</th>\n",
       "      <td>Saint Bernard</td>\n",
       "      <td>Collie</td>\n",
       "      <td>Borzoi</td>\n",
       "    </tr>\n",
       "  </tbody>\n",
       "</table>\n",
       "</div>"
      ],
      "text/plain": [
       "                    p1                  p2              p3\n",
       "143   Golden Retriever  Labrador Retriever          Saluki\n",
       "1802  Golden Retriever        Irish Setter  Cocker Spaniel\n",
       "1814        Comic Book                 Bib          Jersey\n",
       "536             Vizsla            Mongoose         Hatchet\n",
       "855      Saint Bernard              Collie          Borzoi"
      ]
     },
     "execution_count": 82,
     "metadata": {},
     "output_type": "execute_result"
    }
   ],
   "source": [
    "df_master[['p1', 'p2', 'p3']].sample(5)"
   ]
  },
  {
   "cell_type": "code",
   "execution_count": 83,
   "metadata": {},
   "outputs": [
    {
     "data": {
      "text/html": [
       "<div>\n",
       "<style scoped>\n",
       "    .dataframe tbody tr th:only-of-type {\n",
       "        vertical-align: middle;\n",
       "    }\n",
       "\n",
       "    .dataframe tbody tr th {\n",
       "        vertical-align: top;\n",
       "    }\n",
       "\n",
       "    .dataframe thead th {\n",
       "        text-align: right;\n",
       "    }\n",
       "</style>\n",
       "<table border=\"1\" class=\"dataframe\">\n",
       "  <thead>\n",
       "    <tr style=\"text-align: right;\">\n",
       "      <th></th>\n",
       "      <th>p1_conf</th>\n",
       "      <th>p2_conf</th>\n",
       "      <th>p3_conf</th>\n",
       "    </tr>\n",
       "  </thead>\n",
       "  <tbody>\n",
       "    <tr>\n",
       "      <th>183</th>\n",
       "      <td>0.450539</td>\n",
       "      <td>0.187928</td>\n",
       "      <td>0.140068</td>\n",
       "    </tr>\n",
       "    <tr>\n",
       "      <th>491</th>\n",
       "      <td>0.735480</td>\n",
       "      <td>0.075101</td>\n",
       "      <td>0.036072</td>\n",
       "    </tr>\n",
       "    <tr>\n",
       "      <th>125</th>\n",
       "      <td>0.144712</td>\n",
       "      <td>0.106684</td>\n",
       "      <td>0.082610</td>\n",
       "    </tr>\n",
       "    <tr>\n",
       "      <th>441</th>\n",
       "      <td>0.461164</td>\n",
       "      <td>0.288650</td>\n",
       "      <td>0.052423</td>\n",
       "    </tr>\n",
       "    <tr>\n",
       "      <th>619</th>\n",
       "      <td>0.556595</td>\n",
       "      <td>0.151047</td>\n",
       "      <td>0.096435</td>\n",
       "    </tr>\n",
       "  </tbody>\n",
       "</table>\n",
       "</div>"
      ],
      "text/plain": [
       "      p1_conf   p2_conf   p3_conf\n",
       "183  0.450539  0.187928  0.140068\n",
       "491  0.735480  0.075101  0.036072\n",
       "125  0.144712  0.106684  0.082610\n",
       "441  0.461164  0.288650  0.052423\n",
       "619  0.556595  0.151047  0.096435"
      ]
     },
     "execution_count": 83,
     "metadata": {},
     "output_type": "execute_result"
    }
   ],
   "source": [
    "df_master[['p1_conf', 'p2_conf', 'p3_conf']].sample(5)"
   ]
  },
  {
   "cell_type": "markdown",
   "metadata": {},
   "source": [
    "### Define:\n",
    "#### Change confidence levels to a percentage by multiplying by 100"
   ]
  },
  {
   "cell_type": "markdown",
   "metadata": {},
   "source": [
    "### Code"
   ]
  },
  {
   "cell_type": "code",
   "execution_count": 84,
   "metadata": {},
   "outputs": [],
   "source": [
    "con = ['p1_conf', 'p2_conf', 'p3_conf']\n",
    "for c in con:\n",
    "    df_master[c] =round(df_master[c]*100).astype(int)"
   ]
  },
  {
   "cell_type": "markdown",
   "metadata": {},
   "source": [
    "### Test"
   ]
  },
  {
   "cell_type": "code",
   "execution_count": 85,
   "metadata": {
    "scrolled": true
   },
   "outputs": [
    {
     "data": {
      "text/html": [
       "<div>\n",
       "<style scoped>\n",
       "    .dataframe tbody tr th:only-of-type {\n",
       "        vertical-align: middle;\n",
       "    }\n",
       "\n",
       "    .dataframe tbody tr th {\n",
       "        vertical-align: top;\n",
       "    }\n",
       "\n",
       "    .dataframe thead th {\n",
       "        text-align: right;\n",
       "    }\n",
       "</style>\n",
       "<table border=\"1\" class=\"dataframe\">\n",
       "  <thead>\n",
       "    <tr style=\"text-align: right;\">\n",
       "      <th></th>\n",
       "      <th>p1_conf</th>\n",
       "      <th>p2_conf</th>\n",
       "      <th>p3_conf</th>\n",
       "    </tr>\n",
       "  </thead>\n",
       "  <tbody>\n",
       "    <tr>\n",
       "      <th>1011</th>\n",
       "      <td>90</td>\n",
       "      <td>4</td>\n",
       "      <td>2</td>\n",
       "    </tr>\n",
       "    <tr>\n",
       "      <th>502</th>\n",
       "      <td>93</td>\n",
       "      <td>6</td>\n",
       "      <td>0</td>\n",
       "    </tr>\n",
       "    <tr>\n",
       "      <th>1897</th>\n",
       "      <td>44</td>\n",
       "      <td>31</td>\n",
       "      <td>3</td>\n",
       "    </tr>\n",
       "    <tr>\n",
       "      <th>725</th>\n",
       "      <td>16</td>\n",
       "      <td>11</td>\n",
       "      <td>7</td>\n",
       "    </tr>\n",
       "    <tr>\n",
       "      <th>1141</th>\n",
       "      <td>75</td>\n",
       "      <td>12</td>\n",
       "      <td>11</td>\n",
       "    </tr>\n",
       "  </tbody>\n",
       "</table>\n",
       "</div>"
      ],
      "text/plain": [
       "      p1_conf  p2_conf  p3_conf\n",
       "1011       90        4        2\n",
       "502        93        6        0\n",
       "1897       44       31        3\n",
       "725        16       11        7\n",
       "1141       75       12       11"
      ]
     },
     "execution_count": 85,
     "metadata": {},
     "output_type": "execute_result"
    }
   ],
   "source": [
    "df_master[['p1_conf', 'p2_conf', 'p3_conf']].sample(5)"
   ]
  },
  {
   "cell_type": "markdown",
   "metadata": {},
   "source": [
    "### Define:\n",
    "#### Keep on the real dog and maybe Dog from Dogs Predictions column"
   ]
  },
  {
   "cell_type": "markdown",
   "metadata": {},
   "source": [
    "### Code"
   ]
  },
  {
   "cell_type": "code",
   "execution_count": 86,
   "metadata": {},
   "outputs": [],
   "source": [
    "# get on the real dog and maybe Dog from Dogs Predictions column\n",
    "df_master = df_master[df_master['Dogs_Predictions'] != \"not dog\"]"
   ]
  },
  {
   "cell_type": "markdown",
   "metadata": {},
   "source": [
    "### Test"
   ]
  },
  {
   "cell_type": "code",
   "execution_count": 87,
   "metadata": {
    "scrolled": true
   },
   "outputs": [
    {
     "data": {
      "text/plain": [
       "real dog     1196\n",
       "maybe dog     483\n",
       "Name: Dogs_Predictions, dtype: int64"
      ]
     },
     "execution_count": 87,
     "metadata": {},
     "output_type": "execute_result"
    }
   ],
   "source": [
    "df_master.Dogs_Predictions.value_counts()"
   ]
  },
  {
   "cell_type": "markdown",
   "metadata": {},
   "source": [
    "### Define:\n",
    "#### Change the data type of tweet_id from integer to string"
   ]
  },
  {
   "cell_type": "markdown",
   "metadata": {},
   "source": [
    "### Code"
   ]
  },
  {
   "cell_type": "code",
   "execution_count": 88,
   "metadata": {},
   "outputs": [],
   "source": [
    "df_master['tweet_id'] = df_master['tweet_id'].astype(str)"
   ]
  },
  {
   "cell_type": "markdown",
   "metadata": {},
   "source": [
    "### Test"
   ]
  },
  {
   "cell_type": "code",
   "execution_count": 89,
   "metadata": {},
   "outputs": [
    {
     "data": {
      "text/plain": [
       "count                   1679\n",
       "unique                  1679\n",
       "top       666055525042405380\n",
       "freq                       1\n",
       "Name: tweet_id, dtype: object"
      ]
     },
     "execution_count": 89,
     "metadata": {},
     "output_type": "execute_result"
    }
   ],
   "source": [
    "df_master['tweet_id'].describe()"
   ]
  },
  {
   "cell_type": "markdown",
   "metadata": {},
   "source": [
    "### Define:\n",
    "#### Create a copy of the master dataset for known dogs only."
   ]
  },
  {
   "cell_type": "markdown",
   "metadata": {},
   "source": [
    "### Code"
   ]
  },
  {
   "cell_type": "code",
   "execution_count": 90,
   "metadata": {},
   "outputs": [],
   "source": [
    "df_dogs =df_master[df_master['Dogs_Predictions'] == \"real dog\"].copy()\n"
   ]
  },
  {
   "cell_type": "markdown",
   "metadata": {},
   "source": [
    "### Test"
   ]
  },
  {
   "cell_type": "code",
   "execution_count": 91,
   "metadata": {},
   "outputs": [
    {
     "data": {
      "text/plain": [
       "real dog    1196\n",
       "Name: Dogs_Predictions, dtype: int64"
      ]
     },
     "execution_count": 91,
     "metadata": {},
     "output_type": "execute_result"
    }
   ],
   "source": [
    "df_dogs.Dogs_Predictions.value_counts()"
   ]
  },
  {
   "cell_type": "code",
   "execution_count": 92,
   "metadata": {},
   "outputs": [
    {
     "name": "stdout",
     "output_type": "stream",
     "text": [
      "<class 'pandas.core.frame.DataFrame'>\n",
      "Int64Index: 1196 entries, 1 to 1986\n",
      "Data columns (total 23 columns):\n",
      " #   Column            Non-Null Count  Dtype              \n",
      "---  ------            --------------  -----              \n",
      " 0   tweet_id          1196 non-null   object             \n",
      " 1   timestamp         1196 non-null   datetime64[ns, UTC]\n",
      " 2   source            1196 non-null   object             \n",
      " 3   text              1196 non-null   object             \n",
      " 4   expanded_urls     1196 non-null   object             \n",
      " 5   The_Rating        1196 non-null   int64              \n",
      " 6   name              1196 non-null   object             \n",
      " 7   dog_stage         1196 non-null   object             \n",
      " 8   retweet_count     1196 non-null   int64              \n",
      " 9   favorite_count    1196 non-null   int64              \n",
      " 10  year              1196 non-null   int64              \n",
      " 11  month             1196 non-null   int64              \n",
      " 12  day               1196 non-null   int64              \n",
      " 13  time              1196 non-null   object             \n",
      " 14  WeekDay           1196 non-null   object             \n",
      " 15  jpg_url           1196 non-null   object             \n",
      " 16  p1                1196 non-null   object             \n",
      " 17  p1_conf           1196 non-null   int32              \n",
      " 18  p2                1196 non-null   object             \n",
      " 19  p2_conf           1196 non-null   int32              \n",
      " 20  p3                1196 non-null   object             \n",
      " 21  p3_conf           1196 non-null   int32              \n",
      " 22  Dogs_Predictions  1196 non-null   object             \n",
      "dtypes: datetime64[ns, UTC](1), int32(3), int64(6), object(13)\n",
      "memory usage: 210.2+ KB\n"
     ]
    }
   ],
   "source": [
    "df_dogs.info()"
   ]
  },
  {
   "cell_type": "markdown",
   "metadata": {},
   "source": [
    "### Define:\n",
    "#### drop columns unnecessary"
   ]
  },
  {
   "cell_type": "markdown",
   "metadata": {},
   "source": [
    "### Code"
   ]
  },
  {
   "cell_type": "code",
   "execution_count": 93,
   "metadata": {},
   "outputs": [],
   "source": [
    "df_dogs.drop(['year', 'month', 'day', 'time', 'Dogs_Predictions','source','p1_conf', 'p2', 'p2_conf', 'p3', 'p3_conf', 'expanded_urls'], axis=1, inplace=True)"
   ]
  },
  {
   "cell_type": "markdown",
   "metadata": {},
   "source": [
    "### Test"
   ]
  },
  {
   "cell_type": "code",
   "execution_count": 94,
   "metadata": {},
   "outputs": [
    {
     "name": "stdout",
     "output_type": "stream",
     "text": [
      "<class 'pandas.core.frame.DataFrame'>\n",
      "Int64Index: 1196 entries, 1 to 1986\n",
      "Data columns (total 11 columns):\n",
      " #   Column          Non-Null Count  Dtype              \n",
      "---  ------          --------------  -----              \n",
      " 0   tweet_id        1196 non-null   object             \n",
      " 1   timestamp       1196 non-null   datetime64[ns, UTC]\n",
      " 2   text            1196 non-null   object             \n",
      " 3   The_Rating      1196 non-null   int64              \n",
      " 4   name            1196 non-null   object             \n",
      " 5   dog_stage       1196 non-null   object             \n",
      " 6   retweet_count   1196 non-null   int64              \n",
      " 7   favorite_count  1196 non-null   int64              \n",
      " 8   WeekDay         1196 non-null   object             \n",
      " 9   jpg_url         1196 non-null   object             \n",
      " 10  p1              1196 non-null   object             \n",
      "dtypes: datetime64[ns, UTC](1), int64(3), object(7)\n",
      "memory usage: 112.1+ KB\n"
     ]
    }
   ],
   "source": [
    "df_dogs.info()"
   ]
  },
  {
   "cell_type": "code",
   "execution_count": 95,
   "metadata": {},
   "outputs": [
    {
     "data": {
      "text/html": [
       "<div>\n",
       "<style scoped>\n",
       "    .dataframe tbody tr th:only-of-type {\n",
       "        vertical-align: middle;\n",
       "    }\n",
       "\n",
       "    .dataframe tbody tr th {\n",
       "        vertical-align: top;\n",
       "    }\n",
       "\n",
       "    .dataframe thead th {\n",
       "        text-align: right;\n",
       "    }\n",
       "</style>\n",
       "<table border=\"1\" class=\"dataframe\">\n",
       "  <thead>\n",
       "    <tr style=\"text-align: right;\">\n",
       "      <th></th>\n",
       "      <th>tweet_id</th>\n",
       "      <th>p1</th>\n",
       "      <th>rating</th>\n",
       "      <th>favorite_count</th>\n",
       "      <th>retweet_count</th>\n",
       "      <th>dog_stage</th>\n",
       "      <th>name</th>\n",
       "      <th>text</th>\n",
       "      <th>timestamp</th>\n",
       "      <th>jpg_url</th>\n",
       "    </tr>\n",
       "  </thead>\n",
       "  <tbody>\n",
       "    <tr>\n",
       "      <th>1642</th>\n",
       "      <td>672466075045466113</td>\n",
       "      <td>Cocker Spaniel</td>\n",
       "      <td>NaN</td>\n",
       "      <td>1310</td>\n",
       "      <td>512</td>\n",
       "      <td>Unknown</td>\n",
       "      <td>Franq</td>\n",
       "      <td>This is Franq and Pablo. They're working hard ...</td>\n",
       "      <td>2015-12-03 17:23:00+00:00</td>\n",
       "      <td>https://pbs.twimg.com/media/CVUUU_EWoAAxABV.jpg</td>\n",
       "    </tr>\n",
       "    <tr>\n",
       "      <th>495</th>\n",
       "      <td>787717603741622272</td>\n",
       "      <td>German Shepherd</td>\n",
       "      <td>NaN</td>\n",
       "      <td>10482</td>\n",
       "      <td>2852</td>\n",
       "      <td>puppo</td>\n",
       "      <td>Tonks</td>\n",
       "      <td>This is Tonks. She is a service puppo. Can hea...</td>\n",
       "      <td>2016-10-16 18:11:26+00:00</td>\n",
       "      <td>https://pbs.twimg.com/media/Cu6I9vvWIAAZG0a.jpg</td>\n",
       "    </tr>\n",
       "    <tr>\n",
       "      <th>542</th>\n",
       "      <td>778650543019483137</td>\n",
       "      <td>German Shepherd</td>\n",
       "      <td>NaN</td>\n",
       "      <td>5872</td>\n",
       "      <td>1532</td>\n",
       "      <td>Unknown</td>\n",
       "      <td>Strider</td>\n",
       "      <td>Meet Strider. He thinks he's a sorority girl. ...</td>\n",
       "      <td>2016-09-21 17:42:10+00:00</td>\n",
       "      <td>https://pbs.twimg.com/media/Cs5ShihWEAAH2ti.jpg</td>\n",
       "    </tr>\n",
       "    <tr>\n",
       "      <th>995</th>\n",
       "      <td>708130923141795840</td>\n",
       "      <td>French Bulldog</td>\n",
       "      <td>NaN</td>\n",
       "      <td>3378</td>\n",
       "      <td>848</td>\n",
       "      <td>Unknown</td>\n",
       "      <td>None</td>\n",
       "      <td>Please stop sending in non canines like this G...</td>\n",
       "      <td>2016-03-11 03:22:23+00:00</td>\n",
       "      <td>https://pbs.twimg.com/media/CdPJUWIWIAAIchl.jpg</td>\n",
       "    </tr>\n",
       "    <tr>\n",
       "      <th>1387</th>\n",
       "      <td>679777920601223168</td>\n",
       "      <td>Bloodhound</td>\n",
       "      <td>NaN</td>\n",
       "      <td>3086</td>\n",
       "      <td>1097</td>\n",
       "      <td>pupper</td>\n",
       "      <td>Rinna</td>\n",
       "      <td>This is Rinna. She's melting. 10/10 get inside...</td>\n",
       "      <td>2015-12-23 21:37:40+00:00</td>\n",
       "      <td>https://pbs.twimg.com/media/CW8OYajUMAAPRoF.jpg</td>\n",
       "    </tr>\n",
       "  </tbody>\n",
       "</table>\n",
       "</div>"
      ],
      "text/plain": [
       "                tweet_id               p1  rating  favorite_count  \\\n",
       "1642  672466075045466113   Cocker Spaniel     NaN            1310   \n",
       "495   787717603741622272  German Shepherd     NaN           10482   \n",
       "542   778650543019483137  German Shepherd     NaN            5872   \n",
       "995   708130923141795840   French Bulldog     NaN            3378   \n",
       "1387  679777920601223168       Bloodhound     NaN            3086   \n",
       "\n",
       "      retweet_count dog_stage     name  \\\n",
       "1642            512   Unknown    Franq   \n",
       "495            2852     puppo    Tonks   \n",
       "542            1532   Unknown  Strider   \n",
       "995             848   Unknown     None   \n",
       "1387           1097    pupper    Rinna   \n",
       "\n",
       "                                                   text  \\\n",
       "1642  This is Franq and Pablo. They're working hard ...   \n",
       "495   This is Tonks. She is a service puppo. Can hea...   \n",
       "542   Meet Strider. He thinks he's a sorority girl. ...   \n",
       "995   Please stop sending in non canines like this G...   \n",
       "1387  This is Rinna. She's melting. 10/10 get inside...   \n",
       "\n",
       "                     timestamp  \\\n",
       "1642 2015-12-03 17:23:00+00:00   \n",
       "495  2016-10-16 18:11:26+00:00   \n",
       "542  2016-09-21 17:42:10+00:00   \n",
       "995  2016-03-11 03:22:23+00:00   \n",
       "1387 2015-12-23 21:37:40+00:00   \n",
       "\n",
       "                                              jpg_url  \n",
       "1642  https://pbs.twimg.com/media/CVUUU_EWoAAxABV.jpg  \n",
       "495   https://pbs.twimg.com/media/Cu6I9vvWIAAZG0a.jpg  \n",
       "542   https://pbs.twimg.com/media/Cs5ShihWEAAH2ti.jpg  \n",
       "995   https://pbs.twimg.com/media/CdPJUWIWIAAIchl.jpg  \n",
       "1387  https://pbs.twimg.com/media/CW8OYajUMAAPRoF.jpg  "
      ]
     },
     "execution_count": 95,
     "metadata": {},
     "output_type": "execute_result"
    }
   ],
   "source": [
    "df_dogs.reindex(['tweet_id', 'p1', 'rating', 'favorite_count', 'retweet_count', 'dog_stage', 'name', 'text', 'timestamp', 'jpg_url'], axis=1).sample(5)"
   ]
  },
  {
   "cell_type": "code",
   "execution_count": 96,
   "metadata": {},
   "outputs": [
    {
     "data": {
      "text/plain": [
       "(1196, 11)"
      ]
     },
     "execution_count": 96,
     "metadata": {},
     "output_type": "execute_result"
    }
   ],
   "source": [
    "df_dogs.shape"
   ]
  },
  {
   "cell_type": "code",
   "execution_count": 117,
   "metadata": {},
   "outputs": [],
   "source": [
    "df_master.to_csv('twitter_archive_master.csv', index=False)"
   ]
  },
  {
   "cell_type": "markdown",
   "metadata": {},
   "source": [
    "# Analyzing and Visualizing Data"
   ]
  },
  {
   "cell_type": "code",
   "execution_count": 90,
   "metadata": {
    "scrolled": true
   },
   "outputs": [
    {
     "data": {
      "image/png": "[encoded data removed]",
      "text/plain": [
       "<Figure size 1440x1080 with 9 Axes>"
      ]
     },
     "metadata": {
      "needs_background": "light"
     },
     "output_type": "display_data"
    }
   ],
   "source": [
    "df_master.hist(color='DarkBlue',figsize= (20,15));"
   ]
  },
  {
   "cell_type": "code",
   "execution_count": 97,
   "metadata": {},
   "outputs": [
    {
     "data": {
      "text/plain": [
       "Twitter for iPhone     2042\n",
       "Vine - Make a Scene      91\n",
       "Twitter Web Client       31\n",
       "TweetDeck                11\n",
       "Name: source, dtype: int64"
      ]
     },
     "execution_count": 97,
     "metadata": {},
     "output_type": "execute_result"
    }
   ],
   "source": [
    "df_clean.source.value_counts()"
   ]
  },
  {
   "cell_type": "code",
   "execution_count": 98,
   "metadata": {},
   "outputs": [
    {
     "data": {
      "image/png": "[encoded data removed]",
      "text/plain": [
       "<Figure size 432x288 with 1 Axes>"
      ]
     },
     "metadata": {
      "needs_background": "light"
     },
     "output_type": "display_data"
    }
   ],
   "source": [
    "#Most Sources from their iPhone app.\n",
    "plt.style.use('tableau-colorblind10')\n",
    "sns.countplot(data = df_clean, y = 'source')\n",
    "plt.title('Sources Distribution', fontsize=20)\n",
    "plt.xlabel('Number of Tweet ', fontsize=15)\n",
    "plt.ylabel('The Sources', fontsize=15)\n",
    "plt.savefig('tweet-source.png');"
   ]
  },
  {
   "cell_type": "code",
   "execution_count": 99,
   "metadata": {},
   "outputs": [
    {
     "data": {
      "text/html": [
       "<div>\n",
       "<style scoped>\n",
       "    .dataframe tbody tr th:only-of-type {\n",
       "        vertical-align: middle;\n",
       "    }\n",
       "\n",
       "    .dataframe tbody tr th {\n",
       "        vertical-align: top;\n",
       "    }\n",
       "\n",
       "    .dataframe thead th {\n",
       "        text-align: right;\n",
       "    }\n",
       "</style>\n",
       "<table border=\"1\" class=\"dataframe\">\n",
       "  <thead>\n",
       "    <tr style=\"text-align: right;\">\n",
       "      <th></th>\n",
       "      <th>tweet_id</th>\n",
       "      <th>timestamp</th>\n",
       "      <th>text</th>\n",
       "      <th>The_Rating</th>\n",
       "      <th>name</th>\n",
       "      <th>dog_stage</th>\n",
       "      <th>retweet_count</th>\n",
       "      <th>favorite_count</th>\n",
       "      <th>WeekDay</th>\n",
       "      <th>jpg_url</th>\n",
       "      <th>p1</th>\n",
       "    </tr>\n",
       "  </thead>\n",
       "  <tbody>\n",
       "    <tr>\n",
       "      <th>305</th>\n",
       "      <td>822872901745569793</td>\n",
       "      <td>2017-01-21 18:26:02+00:00</td>\n",
       "      <td>Here's a super supportive puppo participating ...</td>\n",
       "      <td>13</td>\n",
       "      <td>None</td>\n",
       "      <td>puppo</td>\n",
       "      <td>43982</td>\n",
       "      <td>133424</td>\n",
       "      <td>Sat</td>\n",
       "      <td>https://pbs.twimg.com/media/C2tugXLXgAArJO4.jpg</td>\n",
       "      <td>Lakeland Terrier</td>\n",
       "    </tr>\n",
       "    <tr>\n",
       "      <th>396</th>\n",
       "      <td>807106840509214720</td>\n",
       "      <td>2016-12-09 06:17:20+00:00</td>\n",
       "      <td>This is Stephan. He just wants to help. 13/10 ...</td>\n",
       "      <td>13</td>\n",
       "      <td>Stephan</td>\n",
       "      <td>Unknown</td>\n",
       "      <td>56922</td>\n",
       "      <td>121020</td>\n",
       "      <td>Fri</td>\n",
       "      <td>https://pbs.twimg.com/ext_tw_video_thumb/80710...</td>\n",
       "      <td>Chihuahua</td>\n",
       "    </tr>\n",
       "    <tr>\n",
       "      <th>107</th>\n",
       "      <td>866450705531457537</td>\n",
       "      <td>2017-05-22 00:28:40+00:00</td>\n",
       "      <td>This is Jamesy. He gives a kiss to every other...</td>\n",
       "      <td>13</td>\n",
       "      <td>Jamesy</td>\n",
       "      <td>pupper</td>\n",
       "      <td>33055</td>\n",
       "      <td>116716</td>\n",
       "      <td>Mon</td>\n",
       "      <td>https://pbs.twimg.com/media/DAZAUfBXcAAG_Nn.jpg</td>\n",
       "      <td>French Bulldog</td>\n",
       "    </tr>\n",
       "  </tbody>\n",
       "</table>\n",
       "</div>"
      ],
      "text/plain": [
       "               tweet_id                 timestamp  \\\n",
       "305  822872901745569793 2017-01-21 18:26:02+00:00   \n",
       "396  807106840509214720 2016-12-09 06:17:20+00:00   \n",
       "107  866450705531457537 2017-05-22 00:28:40+00:00   \n",
       "\n",
       "                                                  text  The_Rating     name  \\\n",
       "305  Here's a super supportive puppo participating ...          13     None   \n",
       "396  This is Stephan. He just wants to help. 13/10 ...          13  Stephan   \n",
       "107  This is Jamesy. He gives a kiss to every other...          13   Jamesy   \n",
       "\n",
       "    dog_stage  retweet_count  favorite_count WeekDay  \\\n",
       "305     puppo          43982          133424     Sat   \n",
       "396   Unknown          56922          121020     Fri   \n",
       "107    pupper          33055          116716     Mon   \n",
       "\n",
       "                                               jpg_url                p1  \n",
       "305    https://pbs.twimg.com/media/C2tugXLXgAArJO4.jpg  Lakeland Terrier  \n",
       "396  https://pbs.twimg.com/ext_tw_video_thumb/80710...         Chihuahua  \n",
       "107    https://pbs.twimg.com/media/DAZAUfBXcAAG_Nn.jpg    French Bulldog  "
      ]
     },
     "execution_count": 99,
     "metadata": {},
     "output_type": "execute_result"
    }
   ],
   "source": [
    "df_dogs.nlargest(3, 'favorite_count')"
   ]
  },
  {
   "cell_type": "code",
   "execution_count": 100,
   "metadata": {},
   "outputs": [
    {
     "data": {
      "text/html": [
       "<div>\n",
       "<style scoped>\n",
       "    .dataframe tbody tr th:only-of-type {\n",
       "        vertical-align: middle;\n",
       "    }\n",
       "\n",
       "    .dataframe tbody tr th {\n",
       "        vertical-align: top;\n",
       "    }\n",
       "\n",
       "    .dataframe thead th {\n",
       "        text-align: right;\n",
       "    }\n",
       "</style>\n",
       "<table border=\"1\" class=\"dataframe\">\n",
       "  <thead>\n",
       "    <tr style=\"text-align: right;\">\n",
       "      <th></th>\n",
       "      <th>tweet_id</th>\n",
       "      <th>timestamp</th>\n",
       "      <th>text</th>\n",
       "      <th>The_Rating</th>\n",
       "      <th>name</th>\n",
       "      <th>dog_stage</th>\n",
       "      <th>retweet_count</th>\n",
       "      <th>favorite_count</th>\n",
       "      <th>WeekDay</th>\n",
       "      <th>jpg_url</th>\n",
       "      <th>p1</th>\n",
       "    </tr>\n",
       "  </thead>\n",
       "  <tbody>\n",
       "    <tr>\n",
       "      <th>804</th>\n",
       "      <td>739238157791694849</td>\n",
       "      <td>2016-06-04 23:31:25+00:00</td>\n",
       "      <td>Here's a doggo blowing bubbles. It's downright...</td>\n",
       "      <td>13</td>\n",
       "      <td>None</td>\n",
       "      <td>doggo</td>\n",
       "      <td>57873</td>\n",
       "      <td>115719</td>\n",
       "      <td>Sat</td>\n",
       "      <td>https://pbs.twimg.com/ext_tw_video_thumb/73923...</td>\n",
       "      <td>Eskimo Dog</td>\n",
       "    </tr>\n",
       "    <tr>\n",
       "      <th>396</th>\n",
       "      <td>807106840509214720</td>\n",
       "      <td>2016-12-09 06:17:20+00:00</td>\n",
       "      <td>This is Stephan. He just wants to help. 13/10 ...</td>\n",
       "      <td>13</td>\n",
       "      <td>Stephan</td>\n",
       "      <td>Unknown</td>\n",
       "      <td>56922</td>\n",
       "      <td>121020</td>\n",
       "      <td>Fri</td>\n",
       "      <td>https://pbs.twimg.com/ext_tw_video_thumb/80710...</td>\n",
       "      <td>Chihuahua</td>\n",
       "    </tr>\n",
       "    <tr>\n",
       "      <th>305</th>\n",
       "      <td>822872901745569793</td>\n",
       "      <td>2017-01-21 18:26:02+00:00</td>\n",
       "      <td>Here's a super supportive puppo participating ...</td>\n",
       "      <td>13</td>\n",
       "      <td>None</td>\n",
       "      <td>puppo</td>\n",
       "      <td>43982</td>\n",
       "      <td>133424</td>\n",
       "      <td>Sat</td>\n",
       "      <td>https://pbs.twimg.com/media/C2tugXLXgAArJO4.jpg</td>\n",
       "      <td>Lakeland Terrier</td>\n",
       "    </tr>\n",
       "  </tbody>\n",
       "</table>\n",
       "</div>"
      ],
      "text/plain": [
       "               tweet_id                 timestamp  \\\n",
       "804  739238157791694849 2016-06-04 23:31:25+00:00   \n",
       "396  807106840509214720 2016-12-09 06:17:20+00:00   \n",
       "305  822872901745569793 2017-01-21 18:26:02+00:00   \n",
       "\n",
       "                                                  text  The_Rating     name  \\\n",
       "804  Here's a doggo blowing bubbles. It's downright...          13     None   \n",
       "396  This is Stephan. He just wants to help. 13/10 ...          13  Stephan   \n",
       "305  Here's a super supportive puppo participating ...          13     None   \n",
       "\n",
       "    dog_stage  retweet_count  favorite_count WeekDay  \\\n",
       "804     doggo          57873          115719     Sat   \n",
       "396   Unknown          56922          121020     Fri   \n",
       "305     puppo          43982          133424     Sat   \n",
       "\n",
       "                                               jpg_url                p1  \n",
       "804  https://pbs.twimg.com/ext_tw_video_thumb/73923...        Eskimo Dog  \n",
       "396  https://pbs.twimg.com/ext_tw_video_thumb/80710...         Chihuahua  \n",
       "305    https://pbs.twimg.com/media/C2tugXLXgAArJO4.jpg  Lakeland Terrier  "
      ]
     },
     "execution_count": 100,
     "metadata": {},
     "output_type": "execute_result"
    }
   ],
   "source": [
    "df_dogs.nlargest(3, 'retweet_count')"
   ]
  },
  {
   "cell_type": "code",
   "execution_count": 101,
   "metadata": {},
   "outputs": [
    {
     "data": {
      "image/png": "[encoded data removed]",
      "text/plain": [
       "<Figure size 648x648 with 1 Axes>"
      ]
     },
     "metadata": {
      "needs_background": "light"
     },
     "output_type": "display_data"
    }
   ],
   "source": [
    "#the favorites are more popular than retweets.\n",
    "df_master[['favorite_count', 'retweet_count']].plot(style ='.', ylim=[0, 50000], figsize=(9,9))\n",
    "plt.title('Number of retweets and favorites through time', size=18)\n",
    "plt.xlabel('Date', size=14)\n",
    "plt.xticks([], [])\n",
    "plt.ylabel('Number of retweets, favorites', size=14)\n",
    "plt.legend(ncol=1, loc='upper right')\n",
    "plt.savefig('retweets-favorites-time.png');"
   ]
  },
  {
   "cell_type": "code",
   "execution_count": 102,
   "metadata": {
    "scrolled": false
   },
   "outputs": [
    {
     "data": {
      "image/png": "[encoded data removed]",
      "text/plain": [
       "<Figure size 432x288 with 1 Axes>"
      ]
     },
     "metadata": {
      "needs_background": "light"
     },
     "output_type": "display_data"
    }
   ],
   "source": [
    "#There is a strong correlation between number of retweets and favorites\n",
    "sns.regplot(x=\"favorite_count\", y=\"retweet_count\", data=df_master, scatter_kws={'alpha':0.4})\n",
    "plt.title('Retweet Vs Favorite ', size=18)\n",
    "plt.xlabel('Favorites', size=14) \n",
    "plt.ylabel('Retweet', size=14)\n",
    "plt.savefig('retweet-favorite.png');"
   ]
  },
  {
   "cell_type": "code",
   "execution_count": 103,
   "metadata": {},
   "outputs": [
    {
     "data": {
      "text/plain": [
       "None      499\n",
       "Cooper     10\n",
       "Tucker      9\n",
       "Oliver      9\n",
       "Lucy        9\n",
       "         ... \n",
       "Dallas      1\n",
       "Tuco        1\n",
       "Olaf        1\n",
       "Mac         1\n",
       "Sobe        1\n",
       "Name: name, Length: 832, dtype: int64"
      ]
     },
     "execution_count": 103,
     "metadata": {},
     "output_type": "execute_result"
    }
   ],
   "source": [
    "df_master['name'].value_counts()"
   ]
  },
  {
   "cell_type": "code",
   "execution_count": 104,
   "metadata": {},
   "outputs": [
    {
     "data": {
      "image/png": "[encoded data removed]",
      "text/plain": [
       "<Figure size 432x288 with 1 Axes>"
      ]
     },
     "metadata": {
      "needs_background": "light"
     },
     "output_type": "display_data"
    }
   ],
   "source": [
    "#The Most Common Names of Dogs is Cooper\n",
    "most_names = df_master.name.value_counts()[1:6].sort_values (axis=0, ascending=True)\n",
    "most_names.plot(kind = 'barh', color='steelblue')\n",
    "plt.title('The Most Common Names of Dogs', size=18)\n",
    "plt.xlabel('Number of Dogs', size=14)\n",
    "plt.ylabel('Name of Dogs', size=14)\n",
    "plt.savefig('top-names.png');\n"
   ]
  },
  {
   "cell_type": "code",
   "execution_count": 105,
   "metadata": {},
   "outputs": [
    {
     "data": {
      "text/plain": [
       "Golden Retriever      139\n",
       "Labrador Retriever     93\n",
       "Pembroke               88\n",
       "Chihuahua              79\n",
       "Pug                    54\n",
       "                     ... \n",
       "Guinea Pig              1\n",
       "Rapeseed                1\n",
       "Tabby                   1\n",
       "Laptop                  1\n",
       "Tricycle                1\n",
       "Name: p1, Length: 214, dtype: int64"
      ]
     },
     "execution_count": 105,
     "metadata": {},
     "output_type": "execute_result"
    }
   ],
   "source": [
    "df_master['p1'].value_counts()"
   ]
  },
  {
   "cell_type": "code",
   "execution_count": 106,
   "metadata": {},
   "outputs": [
    {
     "data": {
      "image/png": "[encoded data removed]",
      "text/plain": [
       "<Figure size 432x288 with 1 Axes>"
      ]
     },
     "metadata": {
      "needs_background": "light"
     },
     "output_type": "display_data"
    }
   ],
   "source": [
    "#The most common Breeds of Dogs is Golden Retrievers\n",
    "most_breeds = df_master.p1.value_counts()[0:5].sort_values(axis=0, ascending=True)\n",
    "most_breeds.plot(kind = 'barh', color=['steelblue'])\n",
    "plt.title('The Most Common Dogs Breeds', size=18)\n",
    "plt.xlabel('Number of Dogs', size=14)\n",
    "plt.ylabel('Breeds of Dogs', size=14)\n",
    "plt.savefig('top-breeds.png');"
   ]
  },
  {
   "cell_type": "code",
   "execution_count": 107,
   "metadata": {},
   "outputs": [
    {
     "data": {
      "text/plain": [
       "Mon      281\n",
       "Tues     244\n",
       "Thurs    244\n",
       "Fri      240\n",
       "Weds     239\n",
       "Sun      222\n",
       "Sat      209\n",
       "Name: WeekDay, dtype: int64"
      ]
     },
     "execution_count": 107,
     "metadata": {},
     "output_type": "execute_result"
    }
   ],
   "source": [
    "df_master['WeekDay'].value_counts()"
   ]
  },
  {
   "cell_type": "code",
   "execution_count": 108,
   "metadata": {},
   "outputs": [
    {
     "data": {
      "image/png": "[encoded data removed]",
      "text/plain": [
       "<Figure size 432x288 with 1 Axes>"
      ]
     },
     "metadata": {
      "needs_background": "light"
     },
     "output_type": "display_data"
    }
   ],
   "source": [
    "# Most common Days of the week based on the number of tweets is Monday\n",
    "Number_tweets = df_master['WeekDay'].value_counts()\n",
    "Number_tweets.plot(kind = 'barh', color='steelblue')\n",
    "plt.title('Number of Tweets for Week Days', size=18)\n",
    "plt.xlabel('Number of Tweets', size=14)\n",
    "plt.ylabel('Week Days', size=14)\n",
    "plt.savefig('WeekDays.png');"
   ]
  },
  {
   "cell_type": "code",
   "execution_count": 109,
   "metadata": {},
   "outputs": [
    {
     "data": {
      "text/plain": [
       "12    340\n",
       "11    271\n",
       "1     200\n",
       "2     155\n",
       "3     149\n",
       "7     123\n",
       "6     109\n",
       "5      84\n",
       "4      84\n",
       "10     60\n",
       "9      56\n",
       "8      48\n",
       "Name: month, dtype: int64"
      ]
     },
     "execution_count": 109,
     "metadata": {},
     "output_type": "execute_result"
    }
   ],
   "source": [
    "df_master['month'].value_counts()"
   ]
  },
  {
   "cell_type": "code",
   "execution_count": 110,
   "metadata": {
    "scrolled": true
   },
   "outputs": [
    {
     "data": {
      "image/png": "[encoded data removed]",
      "text/plain": [
       "<Figure size 432x288 with 1 Axes>"
      ]
     },
     "metadata": {
      "needs_background": "light"
     },
     "output_type": "display_data"
    }
   ],
   "source": [
    "# Most common Months based on the number of tweets is 12\n",
    "months_t = tweets =df_master['month'].value_counts()\n",
    "months_t.plot(kind = 'barh', color='steelblue')\n",
    "plt.title('Number of Tweets for Months', size=18)\n",
    "plt.xlabel('Number of Tweets', size=14)\n",
    "plt.ylabel('The Months', size=14)\n",
    "plt.savefig('month-tweets.png');"
   ]
  },
  {
   "cell_type": "code",
   "execution_count": 111,
   "metadata": {},
   "outputs": [
    {
     "data": {
      "text/plain": [
       "Unknown         1420\n",
       "pupper           168\n",
       "doggo             53\n",
       "puppo             21\n",
       "doggopupper        8\n",
       "floofer            7\n",
       "doggofloofer       1\n",
       "doggopuppo         1\n",
       "Name: dog_stage, dtype: int64"
      ]
     },
     "execution_count": 111,
     "metadata": {},
     "output_type": "execute_result"
    }
   ],
   "source": [
    "df_master['dog_stage'].value_counts()"
   ]
  },
  {
   "cell_type": "code",
   "execution_count": 112,
   "metadata": {
    "scrolled": true
   },
   "outputs": [
    {
     "data": {
      "image/png": "[encoded data removed]",
      "text/plain": [
       "<Figure size 432x288 with 1 Axes>"
      ]
     },
     "metadata": {
      "needs_background": "light"
     },
     "output_type": "display_data"
    }
   ],
   "source": [
    "# The most common stage of Dogs is pupper\n",
    "stage_dogs = df_master['dog_stage'].value_counts()[1:6].index\n",
    "sns.countplot(data = df_master, x = 'dog_stage', order = stage_dogs , orient = 'h')\n",
    "plt.title('The Most Common Dogs Stage',fontsize=18)\n",
    "plt.xlabel('Stage of Dogs', fontsize=14)\n",
    "plt.ylabel('Number of Doges', fontsize=14)\n",
    "plt.savefig('top-stages.png');"
   ]
  },
  {
   "cell_type": "code",
   "execution_count": 113,
   "metadata": {},
   "outputs": [
    {
     "data": {
      "text/plain": [
       "real dog     1243\n",
       "maybe dog     508\n",
       "not dog       324\n",
       "Name: Dogs_Predictions, dtype: int64"
      ]
     },
     "execution_count": 113,
     "metadata": {},
     "output_type": "execute_result"
    }
   ],
   "source": [
    "i_clean['Dogs_Predictions'].value_counts()"
   ]
  },
  {
   "cell_type": "code",
   "execution_count": 114,
   "metadata": {
    "scrolled": true
   },
   "outputs": [
    {
     "data": {
      "image/png": "[encoded data removed]",
      "text/plain": [
       "<Figure size 432x288 with 1 Axes>"
      ]
     },
     "metadata": {
      "needs_background": "light"
     },
     "output_type": "display_data"
    }
   ],
   "source": [
    "# Real dogs is The most Predictions of Doges \n",
    "pre_dogs = i_clean['Dogs_Predictions'].value_counts().index\n",
    "sns.countplot(data = i_clean, x = 'Dogs_Predictions', order = pre_dogs , orient = 'h')\n",
    "plt.title('The Predictions of Doges',fontsize=18)\n",
    "plt.xlabel('Type of Dogs', fontsize=14)\n",
    "plt.ylabel('Number of Doges', fontsize=14)\n",
    "plt.savefig('top-stages.png');"
   ]
  }
 ],
 "metadata": {
  "kernelspec": {
   "display_name": "Python 3",
   "language": "python",
   "name": "python3"
  },
  "language_info": {
   "codemirror_mode": {
    "name": "ipython",
    "version": 3
   },
   "file_extension": ".py",
   "mimetype": "text/x-python",
   "name": "python",
   "nbconvert_exporter": "python",
   "pygments_lexer": "ipython3",
   "version": "3.7.6"
  }
 },
 "nbformat": 4,
 "nbformat_minor": 4
}
